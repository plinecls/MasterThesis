{
 "cells": [
  {
   "cell_type": "markdown",
   "id": "49f82e57-9a06-416c-9f41-cbc5939d1f03",
   "metadata": {},
   "source": [
    "Claes Pauline. Master Digital Text Analysis. Student ID: 20163274\n",
    "\n",
    "# Simplifying certain variables"
   ]
  },
  {
   "cell_type": "markdown",
   "id": "f89734f1-60fd-4ea9-ac3a-87390b8accc0",
   "metadata": {},
   "source": [
    "> Because some variables contain many different parameters, and this is not always optimal for our analyses, some non-binary variables are made binary or are at least simplified (reduced). "
   ]
  },
  {
   "cell_type": "code",
   "execution_count": 1,
   "id": "795c3c16-20bd-4936-89b1-e06a253e84e1",
   "metadata": {},
   "outputs": [],
   "source": [
    "import pandas as pd"
   ]
  },
  {
   "cell_type": "code",
   "execution_count": 2,
   "id": "638e615b-3375-44f1-bc02-5dd357dcb7be",
   "metadata": {},
   "outputs": [],
   "source": [
    "en = pd.read_excel('/Users/paulineclaes/Documents/dta/thesis/finaldata/final_GoToInf.xlsx')\n",
    "fr = pd.read_excel('/Users/paulineclaes/Documents/dta/thesis/finaldata/final_AllerINF.xlsx')"
   ]
  },
  {
   "cell_type": "code",
   "execution_count": 3,
   "id": "11b10980-f3f0-4e86-8d93-60f65dc03a61",
   "metadata": {},
   "outputs": [
    {
     "data": {
      "text/html": [
       "<div>\n",
       "<style scoped>\n",
       "    .dataframe tbody tr th:only-of-type {\n",
       "        vertical-align: middle;\n",
       "    }\n",
       "\n",
       "    .dataframe tbody tr th {\n",
       "        vertical-align: top;\n",
       "    }\n",
       "\n",
       "    .dataframe thead th {\n",
       "        text-align: right;\n",
       "    }\n",
       "</style>\n",
       "<table border=\"1\" class=\"dataframe\">\n",
       "  <thead>\n",
       "    <tr style=\"text-align: right;\">\n",
       "      <th></th>\n",
       "      <th>timeframe</th>\n",
       "      <th>period_category</th>\n",
       "      <th>kind</th>\n",
       "      <th>data_identifier</th>\n",
       "      <th>author_id</th>\n",
       "      <th>text_id_per_author</th>\n",
       "      <th>authorId_textId</th>\n",
       "      <th>fr_source_filename</th>\n",
       "      <th>fr_source_title</th>\n",
       "      <th>fr_source_author</th>\n",
       "      <th>...</th>\n",
       "      <th>vpers</th>\n",
       "      <th>pos</th>\n",
       "      <th>previous50</th>\n",
       "      <th>prev1</th>\n",
       "      <th>aller</th>\n",
       "      <th>aller_POS</th>\n",
       "      <th>INF</th>\n",
       "      <th>next1</th>\n",
       "      <th>next1_POS</th>\n",
       "      <th>next50</th>\n",
       "    </tr>\n",
       "  </thead>\n",
       "  <tbody>\n",
       "    <tr>\n",
       "      <th>0</th>\n",
       "      <td>early</td>\n",
       "      <td>2</td>\n",
       "      <td>french_original</td>\n",
       "      <td>EFS01</td>\n",
       "      <td>35</td>\n",
       "      <td>1</td>\n",
       "      <td>35_1</td>\n",
       "      <td>WFtemp_LABE_Debat_de_folie_et_amour</td>\n",
       "      <td>Débat de folie et d'amour</td>\n",
       "      <td>Labé, Louise</td>\n",
       "      <td>...</td>\n",
       "      <td>3sg</td>\n",
       "      <td>inf</td>\n",
       "      <td>à gouverner les Viles , sans que lon l' apelle...</td>\n",
       "      <td>d'</td>\n",
       "      <td>aller</td>\n",
       "      <td>VINF</td>\n",
       "      <td>planter</td>\n",
       "      <td>des</td>\n",
       "      <td>P+D</td>\n",
       "      <td>chous . Le fol ira tant et viendra , en donner...</td>\n",
       "    </tr>\n",
       "    <tr>\n",
       "      <th>1</th>\n",
       "      <td>early</td>\n",
       "      <td>2</td>\n",
       "      <td>french_original</td>\n",
       "      <td>EFS01</td>\n",
       "      <td>35</td>\n",
       "      <td>1</td>\n",
       "      <td>35_1</td>\n",
       "      <td>WFtemp_LABE_Debat_de_folie_et_amour</td>\n",
       "      <td>Débat de folie et d'amour</td>\n",
       "      <td>Labé, Louise</td>\n",
       "      <td>...</td>\n",
       "      <td>3sg</td>\n",
       "      <td>pres</td>\n",
       "      <td>ay dit . Quand Mercure ut fini la defense de F...</td>\n",
       "      <td>,</td>\n",
       "      <td>và</td>\n",
       "      <td>VP</td>\n",
       "      <td>prononcer</td>\n",
       "      <td>un</td>\n",
       "      <td>DET</td>\n",
       "      <td>arrest interlocutoire en cette maniere : Pour ...</td>\n",
       "    </tr>\n",
       "    <tr>\n",
       "      <th>2</th>\n",
       "      <td>early</td>\n",
       "      <td>3</td>\n",
       "      <td>french_original</td>\n",
       "      <td>EFS13</td>\n",
       "      <td>47</td>\n",
       "      <td>1</td>\n",
       "      <td>47_1</td>\n",
       "      <td>LESCARBOT_cleaned</td>\n",
       "      <td>Histoire de la Nouvelle France (Lescarbot, Marc)</td>\n",
       "      <td>Lescarbot, Marc</td>\n",
       "      <td>...</td>\n",
       "      <td>3sg</td>\n",
       "      <td>past</td>\n",
       "      <td>de Canada &amp; Hochelaga au temps de post Tacques...</td>\n",
       "      <td>est</td>\n",
       "      <td>allé</td>\n",
       "      <td>VPP</td>\n",
       "      <td>rechercher</td>\n",
       "      <td>leurs</td>\n",
       "      <td>DET</td>\n",
       "      <td>pelleteries , Canada que pour icelles ils ont ...</td>\n",
       "    </tr>\n",
       "    <tr>\n",
       "      <th>3</th>\n",
       "      <td>early</td>\n",
       "      <td>3</td>\n",
       "      <td>french_original</td>\n",
       "      <td>EFS13</td>\n",
       "      <td>47</td>\n",
       "      <td>1</td>\n",
       "      <td>47_1</td>\n",
       "      <td>LESCARBOT_cleaned</td>\n",
       "      <td>Histoire de la Nouvelle France (Lescarbot, Marc)</td>\n",
       "      <td>Lescarbot, Marc</td>\n",
       "      <td>...</td>\n",
       "      <td>3pl</td>\n",
       "      <td>pres</td>\n",
       "      <td>qu' vn autre &amp; n' en perdent point yn tour de ...</td>\n",
       "      <td>les</td>\n",
       "      <td>vont</td>\n",
       "      <td>VP</td>\n",
       "      <td>voir</td>\n",
       "      <td>de</td>\n",
       "      <td>ADP</td>\n",
       "      <td>plus grand chose : comme pardeça quand on pres...</td>\n",
       "    </tr>\n",
       "    <tr>\n",
       "      <th>4</th>\n",
       "      <td>early</td>\n",
       "      <td>3</td>\n",
       "      <td>french_original</td>\n",
       "      <td>EFS13</td>\n",
       "      <td>47</td>\n",
       "      <td>1</td>\n",
       "      <td>47_1</td>\n",
       "      <td>LESCARBOT_cleaned</td>\n",
       "      <td>Histoire de la Nouvelle France (Lescarbot, Marc)</td>\n",
       "      <td>Lescarbot, Marc</td>\n",
       "      <td>...</td>\n",
       "      <td>inf</td>\n",
       "      <td>pres</td>\n",
       "      <td>à l' vn des bours dudit lac ne nous apparoisso...</td>\n",
       "      <td>&amp;</td>\n",
       "      <td>aller</td>\n",
       "      <td>VINF</td>\n",
       "      <td>chercher</td>\n",
       "      <td>passage</td>\n",
       "      <td>NOUN</td>\n",
       "      <td>tre ou cinq rivieres toutes sortantes dudit ff...</td>\n",
       "    </tr>\n",
       "  </tbody>\n",
       "</table>\n",
       "<p>5 rows × 37 columns</p>\n",
       "</div>"
      ],
      "text/plain": [
       "  timeframe  period_category             kind data_identifier  author_id  \\\n",
       "0     early                2  french_original           EFS01         35   \n",
       "1     early                2  french_original           EFS01         35   \n",
       "2     early                3  french_original           EFS13         47   \n",
       "3     early                3  french_original           EFS13         47   \n",
       "4     early                3  french_original           EFS13         47   \n",
       "\n",
       "   text_id_per_author authorId_textId                   fr_source_filename  \\\n",
       "0                   1            35_1  WFtemp_LABE_Debat_de_folie_et_amour   \n",
       "1                   1            35_1  WFtemp_LABE_Debat_de_folie_et_amour   \n",
       "2                   1            47_1                    LESCARBOT_cleaned   \n",
       "3                   1            47_1                    LESCARBOT_cleaned   \n",
       "4                   1            47_1                    LESCARBOT_cleaned   \n",
       "\n",
       "                                    fr_source_title fr_source_author  ...  \\\n",
       "0                         Débat de folie et d'amour     Labé, Louise  ...   \n",
       "1                         Débat de folie et d'amour     Labé, Louise  ...   \n",
       "2  Histoire de la Nouvelle France (Lescarbot, Marc)  Lescarbot, Marc  ...   \n",
       "3  Histoire de la Nouvelle France (Lescarbot, Marc)  Lescarbot, Marc  ...   \n",
       "4  Histoire de la Nouvelle France (Lescarbot, Marc)  Lescarbot, Marc  ...   \n",
       "\n",
       "   vpers   pos                                         previous50 prev1  \\\n",
       "0    3sg   inf  à gouverner les Viles , sans que lon l' apelle...    d'   \n",
       "1    3sg  pres  ay dit . Quand Mercure ut fini la defense de F...     ,   \n",
       "2    3sg  past  de Canada & Hochelaga au temps de post Tacques...   est   \n",
       "3    3pl  pres  qu' vn autre & n' en perdent point yn tour de ...   les   \n",
       "4    inf  pres  à l' vn des bours dudit lac ne nous apparoisso...     &   \n",
       "\n",
       "   aller aller_POS         INF    next1 next1_POS  \\\n",
       "0  aller      VINF     planter      des       P+D   \n",
       "1     và        VP   prononcer       un       DET   \n",
       "2   allé       VPP  rechercher    leurs       DET   \n",
       "3   vont        VP        voir       de       ADP   \n",
       "4  aller      VINF    chercher  passage      NOUN   \n",
       "\n",
       "                                              next50  \n",
       "0  chous . Le fol ira tant et viendra , en donner...  \n",
       "1  arrest interlocutoire en cette maniere : Pour ...  \n",
       "2  pelleteries , Canada que pour icelles ils ont ...  \n",
       "3  plus grand chose : comme pardeça quand on pres...  \n",
       "4  tre ou cinq rivieres toutes sortantes dudit ff...  \n",
       "\n",
       "[5 rows x 37 columns]"
      ]
     },
     "execution_count": 3,
     "metadata": {},
     "output_type": "execute_result"
    }
   ],
   "source": [
    "fr.head()"
   ]
  },
  {
   "cell_type": "code",
   "execution_count": 4,
   "id": "48e9660e-3346-4616-8e62-4d834f3fcca5",
   "metadata": {},
   "outputs": [
    {
     "data": {
      "text/html": [
       "<div>\n",
       "<style scoped>\n",
       "    .dataframe tbody tr th:only-of-type {\n",
       "        vertical-align: middle;\n",
       "    }\n",
       "\n",
       "    .dataframe tbody tr th {\n",
       "        vertical-align: top;\n",
       "    }\n",
       "\n",
       "    .dataframe thead th {\n",
       "        text-align: right;\n",
       "    }\n",
       "</style>\n",
       "<table border=\"1\" class=\"dataframe\">\n",
       "  <thead>\n",
       "    <tr style=\"text-align: right;\">\n",
       "      <th></th>\n",
       "      <th>period</th>\n",
       "      <th>period_category</th>\n",
       "      <th>data_identifier</th>\n",
       "      <th>timeframe</th>\n",
       "      <th>author_id</th>\n",
       "      <th>text_id_per_author</th>\n",
       "      <th>authorId_textId</th>\n",
       "      <th>filename</th>\n",
       "      <th>title</th>\n",
       "      <th>author</th>\n",
       "      <th>...</th>\n",
       "      <th>position</th>\n",
       "      <th>position_fronting</th>\n",
       "      <th>argmt</th>\n",
       "      <th>adverbial</th>\n",
       "      <th>split</th>\n",
       "      <th>attention?</th>\n",
       "      <th>preceding_context</th>\n",
       "      <th>match</th>\n",
       "      <th>following_context</th>\n",
       "      <th>note</th>\n",
       "    </tr>\n",
       "  </thead>\n",
       "  <tbody>\n",
       "    <tr>\n",
       "      <th>0</th>\n",
       "      <td>1600-1609</td>\n",
       "      <td>3</td>\n",
       "      <td>ET13</td>\n",
       "      <td>early</td>\n",
       "      <td>11</td>\n",
       "      <td>1</td>\n",
       "      <td>11_1</td>\n",
       "      <td>A05339.xml</td>\n",
       "      <td>Noua Francia : or The description of that part...</td>\n",
       "      <td>Erondelle, P.</td>\n",
       "      <td>...</td>\n",
       "      <td>NaN</td>\n",
       "      <td>NaN</td>\n",
       "      <td>NaN</td>\n",
       "      <td>NaN</td>\n",
       "      <td>NaN</td>\n",
       "      <td>NaN</td>\n",
       "      <td>, neere about the  Açors,  well fil led with ...</td>\n",
       "      <td>going</td>\n",
       "      <td>a fiſhing for New-found-land-fiſh. And they as...</td>\n",
       "      <td>NaN</td>\n",
       "    </tr>\n",
       "    <tr>\n",
       "      <th>1</th>\n",
       "      <td>1600-1609</td>\n",
       "      <td>3</td>\n",
       "      <td>ET09</td>\n",
       "      <td>early</td>\n",
       "      <td>8</td>\n",
       "      <td>1</td>\n",
       "      <td>8_1</td>\n",
       "      <td>A01991.xml</td>\n",
       "      <td>Admirable and memorable histories containing t...</td>\n",
       "      <td>Grimeston, Edward</td>\n",
       "      <td>...</td>\n",
       "      <td>NaN</td>\n",
       "      <td>NaN</td>\n",
       "      <td>NaN</td>\n",
       "      <td>NaN</td>\n",
       "      <td>NaN</td>\n",
       "      <td>NaN</td>\n",
       "      <td>, by reason of the greatnesse and length. Thi...</td>\n",
       "      <td>going</td>\n",
       "      <td>a iourney with his Wa gon, was be-nighted and ...</td>\n",
       "      <td>NaN</td>\n",
       "    </tr>\n",
       "    <tr>\n",
       "      <th>2</th>\n",
       "      <td>1600-1609</td>\n",
       "      <td>3</td>\n",
       "      <td>ET13</td>\n",
       "      <td>early</td>\n",
       "      <td>11</td>\n",
       "      <td>1</td>\n",
       "      <td>11_1</td>\n",
       "      <td>A05339.xml</td>\n",
       "      <td>Noua Francia : or The description of that part...</td>\n",
       "      <td>Erondelle, P.</td>\n",
       "      <td>...</td>\n",
       "      <td>NaN</td>\n",
       "      <td>NaN</td>\n",
       "      <td>NaN</td>\n",
       "      <td>NaN</td>\n",
       "      <td>NaN</td>\n",
       "      <td>NaN</td>\n",
       "      <td>hogſ heads of Meale, which were giuen to the...</td>\n",
       "      <td>going</td>\n",
       "      <td>a way.  The eleuenth of Auguſt the ſaid  Monſi...</td>\n",
       "      <td>NaN</td>\n",
       "    </tr>\n",
       "    <tr>\n",
       "      <th>3</th>\n",
       "      <td>1600-1609</td>\n",
       "      <td>3</td>\n",
       "      <td>ET14</td>\n",
       "      <td>early</td>\n",
       "      <td>12</td>\n",
       "      <td>1</td>\n",
       "      <td>12_1</td>\n",
       "      <td>99850354.xml</td>\n",
       "      <td>Fovvre bookes, of the institution, vse and doc...</td>\n",
       "      <td>anon10</td>\n",
       "      <td>...</td>\n",
       "      <td>NaN</td>\n",
       "      <td>NaN</td>\n",
       "      <td>NaN</td>\n",
       "      <td>NaN</td>\n",
       "      <td>NaN</td>\n",
       "      <td>NaN</td>\n",
       "      <td>:               that is,               of a s...</td>\n",
       "      <td>going</td>\n",
       "      <td>about it seauen               times,          ...</td>\n",
       "      <td>NaN</td>\n",
       "    </tr>\n",
       "    <tr>\n",
       "      <th>4</th>\n",
       "      <td>1600-1609</td>\n",
       "      <td>3</td>\n",
       "      <td>ET14</td>\n",
       "      <td>early</td>\n",
       "      <td>12</td>\n",
       "      <td>1</td>\n",
       "      <td>12_1</td>\n",
       "      <td>99850354.xml</td>\n",
       "      <td>Fovvre bookes, of the institution, vse and doc...</td>\n",
       "      <td>anon10</td>\n",
       "      <td>...</td>\n",
       "      <td>NaN</td>\n",
       "      <td>NaN</td>\n",
       "      <td>NaN</td>\n",
       "      <td>NaN</td>\n",
       "      <td>NaN</td>\n",
       "      <td>NaN</td>\n",
       "      <td>impotencie                weaknesse          ...</td>\n",
       "      <td>going</td>\n",
       "      <td>about to adore the Head in heauen,            ...</td>\n",
       "      <td>NaN</td>\n",
       "    </tr>\n",
       "  </tbody>\n",
       "</table>\n",
       "<p>5 rows × 35 columns</p>\n",
       "</div>"
      ],
      "text/plain": [
       "      period  period_category data_identifier timeframe  author_id  \\\n",
       "0  1600-1609                3            ET13     early         11   \n",
       "1  1600-1609                3            ET09     early          8   \n",
       "2  1600-1609                3            ET13     early         11   \n",
       "3  1600-1609                3            ET14     early         12   \n",
       "4  1600-1609                3            ET14     early         12   \n",
       "\n",
       "   text_id_per_author authorId_textId      filename  \\\n",
       "0                   1            11_1    A05339.xml   \n",
       "1                   1             8_1    A01991.xml   \n",
       "2                   1            11_1    A05339.xml   \n",
       "3                   1            12_1  99850354.xml   \n",
       "4                   1            12_1  99850354.xml   \n",
       "\n",
       "                                               title             author  ...  \\\n",
       "0  Noua Francia : or The description of that part...      Erondelle, P.  ...   \n",
       "1  Admirable and memorable histories containing t...  Grimeston, Edward  ...   \n",
       "2  Noua Francia : or The description of that part...      Erondelle, P.  ...   \n",
       "3  Fovvre bookes, of the institution, vse and doc...             anon10  ...   \n",
       "4  Fovvre bookes, of the institution, vse and doc...             anon10  ...   \n",
       "\n",
       "   position  position_fronting argmt adverbial split attention?  \\\n",
       "0       NaN                NaN   NaN       NaN   NaN        NaN   \n",
       "1       NaN                NaN   NaN       NaN   NaN        NaN   \n",
       "2       NaN                NaN   NaN       NaN   NaN        NaN   \n",
       "3       NaN                NaN   NaN       NaN   NaN        NaN   \n",
       "4       NaN                NaN   NaN       NaN   NaN        NaN   \n",
       "\n",
       "                                   preceding_context                 match  \\\n",
       "0   , neere about the  Açors,  well fil led with ...                going    \n",
       "1   , by reason of the greatnesse and length. Thi...                going    \n",
       "2    hogſ heads of Meale, which were giuen to the...                going    \n",
       "3   :               that is,               of a s...  going                  \n",
       "4   impotencie                weaknesse          ...  going                  \n",
       "\n",
       "                                   following_context note  \n",
       "0  a fiſhing for New-found-land-fiſh. And they as...  NaN  \n",
       "1  a iourney with his Wa gon, was be-nighted and ...  NaN  \n",
       "2  a way.  The eleuenth of Auguſt the ſaid  Monſi...  NaN  \n",
       "3  about it seauen               times,          ...  NaN  \n",
       "4  about to adore the Head in heauen,            ...  NaN  \n",
       "\n",
       "[5 rows x 35 columns]"
      ]
     },
     "execution_count": 4,
     "metadata": {},
     "output_type": "execute_result"
    }
   ],
   "source": [
    "en.head()"
   ]
  },
  {
   "cell_type": "markdown",
   "id": "017e47e8-2bae-4d3c-978b-ccdabd556668",
   "metadata": {},
   "source": [
    "## Siplifying animacy: `animate` and `inanimate`"
   ]
  },
  {
   "cell_type": "code",
   "execution_count": 5,
   "id": "00f56cb1-7e3b-4907-98ee-b74ad38f1585",
   "metadata": {},
   "outputs": [
    {
     "data": {
      "text/plain": [
       "array([nan, 'unclear', 'human', 'divine', 'human.metonymy',\n",
       "       'human.personification', 'abstract', ' ', 'animate', 'non-human',\n",
       "       'animal', 'non-human/abstract'], dtype=object)"
      ]
     },
     "execution_count": 5,
     "metadata": {},
     "output_type": "execute_result"
    }
   ],
   "source": [
    "en.anim.unique()"
   ]
  },
  {
   "cell_type": "code",
   "execution_count": 6,
   "id": "08c3a21f-a475-4de5-bfd9-aa23585ff745",
   "metadata": {},
   "outputs": [],
   "source": [
    "animate = ['human', 'divine', 'human.metonymy', 'human.personification', 'animate', 'animal']\n",
    "inanimate = ['abstract', 'non-human', 'non-human/abstract']"
   ]
  },
  {
   "cell_type": "code",
   "execution_count": 7,
   "id": "0b01f0e6-55d1-4f08-bba0-e3a1f20c613b",
   "metadata": {},
   "outputs": [],
   "source": [
    "en.insert(18, \n",
    "          'anim_binary', \n",
    "          ['animate' if value in animate else 'inanimate' if value in inanimate else 'NA' for value in en.anim]\n",
    "         )"
   ]
  },
  {
   "cell_type": "code",
   "execution_count": 8,
   "id": "5ccb90cc-847f-43a5-b1cd-cdf14ff3e5cf",
   "metadata": {},
   "outputs": [
    {
     "data": {
      "text/plain": [
       "array(['NA', 'animate', 'inanimate'], dtype=object)"
      ]
     },
     "execution_count": 8,
     "metadata": {},
     "output_type": "execute_result"
    }
   ],
   "source": [
    "en.anim_binary.unique()"
   ]
  },
  {
   "cell_type": "code",
   "execution_count": 9,
   "id": "eae513f9-22ee-4a5b-beb4-5044c4d29f9c",
   "metadata": {},
   "outputs": [],
   "source": [
    "#fr.info()"
   ]
  },
  {
   "cell_type": "code",
   "execution_count": 10,
   "id": "c81f8cdb-fb28-40b6-b8d2-903764622629",
   "metadata": {},
   "outputs": [
    {
     "data": {
      "text/plain": [
       "array(['dummy', 'human', 'non-human', 'personification', 'abstract',\n",
       "       'unclear', 'human.metonymy', 'animal', 'human.metaphor', nan,\n",
       "       'animate', 'divine'], dtype=object)"
      ]
     },
     "execution_count": 10,
     "metadata": {},
     "output_type": "execute_result"
    }
   ],
   "source": [
    "fr.anim.unique()"
   ]
  },
  {
   "cell_type": "code",
   "execution_count": 11,
   "id": "30c05794-8681-4d77-bf1c-5a26cce7efe8",
   "metadata": {},
   "outputs": [],
   "source": [
    "animate_fr = ['human', 'personification', 'human.metonymy', 'animal', 'human.metaphor', 'animate', 'divine']\n",
    "inanimate_fr = ['non-human', 'abstract']"
   ]
  },
  {
   "cell_type": "code",
   "execution_count": 12,
   "id": "21403382-3038-4eb4-bee9-5520f97677d2",
   "metadata": {},
   "outputs": [],
   "source": [
    "fr.insert(24, \n",
    "          'anim_simplified', \n",
    "          ['animate' if value in animate_fr else 'inanimate' if value in inanimate_fr else 'dummy' if value == 'dummy' else 'NA' for value in fr.anim]\n",
    "         )"
   ]
  },
  {
   "cell_type": "code",
   "execution_count": 13,
   "id": "93dc31ef-4abc-42d7-a6de-33ddbaaae809",
   "metadata": {},
   "outputs": [
    {
     "data": {
      "text/html": [
       "<div>\n",
       "<style scoped>\n",
       "    .dataframe tbody tr th:only-of-type {\n",
       "        vertical-align: middle;\n",
       "    }\n",
       "\n",
       "    .dataframe tbody tr th {\n",
       "        vertical-align: top;\n",
       "    }\n",
       "\n",
       "    .dataframe thead th {\n",
       "        text-align: right;\n",
       "    }\n",
       "</style>\n",
       "<table border=\"1\" class=\"dataframe\">\n",
       "  <thead>\n",
       "    <tr style=\"text-align: right;\">\n",
       "      <th></th>\n",
       "      <th>anim</th>\n",
       "      <th>anim_simplified</th>\n",
       "    </tr>\n",
       "  </thead>\n",
       "  <tbody>\n",
       "    <tr>\n",
       "      <th>0</th>\n",
       "      <td>dummy</td>\n",
       "      <td>dummy</td>\n",
       "    </tr>\n",
       "    <tr>\n",
       "      <th>1</th>\n",
       "      <td>human</td>\n",
       "      <td>animate</td>\n",
       "    </tr>\n",
       "    <tr>\n",
       "      <th>2</th>\n",
       "      <td>human</td>\n",
       "      <td>animate</td>\n",
       "    </tr>\n",
       "    <tr>\n",
       "      <th>3</th>\n",
       "      <td>human</td>\n",
       "      <td>animate</td>\n",
       "    </tr>\n",
       "    <tr>\n",
       "      <th>4</th>\n",
       "      <td>human</td>\n",
       "      <td>animate</td>\n",
       "    </tr>\n",
       "    <tr>\n",
       "      <th>...</th>\n",
       "      <td>...</td>\n",
       "      <td>...</td>\n",
       "    </tr>\n",
       "    <tr>\n",
       "      <th>1358</th>\n",
       "      <td>NaN</td>\n",
       "      <td>NA</td>\n",
       "    </tr>\n",
       "    <tr>\n",
       "      <th>1359</th>\n",
       "      <td>NaN</td>\n",
       "      <td>NA</td>\n",
       "    </tr>\n",
       "    <tr>\n",
       "      <th>1360</th>\n",
       "      <td>NaN</td>\n",
       "      <td>NA</td>\n",
       "    </tr>\n",
       "    <tr>\n",
       "      <th>1361</th>\n",
       "      <td>human</td>\n",
       "      <td>animate</td>\n",
       "    </tr>\n",
       "    <tr>\n",
       "      <th>1362</th>\n",
       "      <td>human</td>\n",
       "      <td>animate</td>\n",
       "    </tr>\n",
       "  </tbody>\n",
       "</table>\n",
       "<p>1363 rows × 2 columns</p>\n",
       "</div>"
      ],
      "text/plain": [
       "       anim anim_simplified\n",
       "0     dummy           dummy\n",
       "1     human         animate\n",
       "2     human         animate\n",
       "3     human         animate\n",
       "4     human         animate\n",
       "...     ...             ...\n",
       "1358    NaN              NA\n",
       "1359    NaN              NA\n",
       "1360    NaN              NA\n",
       "1361  human         animate\n",
       "1362  human         animate\n",
       "\n",
       "[1363 rows x 2 columns]"
      ]
     },
     "execution_count": 13,
     "metadata": {},
     "output_type": "execute_result"
    }
   ],
   "source": [
    "fr[['anim', 'anim_simplified']]"
   ]
  },
  {
   "cell_type": "code",
   "execution_count": 14,
   "id": "f7d42ecb-8e23-41fd-bebf-539498f2320d",
   "metadata": {},
   "outputs": [
    {
     "data": {
      "text/plain": [
       "array(['dummy', 'animate', 'inanimate', 'NA'], dtype=object)"
      ]
     },
     "execution_count": 14,
     "metadata": {},
     "output_type": "execute_result"
    }
   ],
   "source": [
    "fr.anim_simplified.unique()"
   ]
  },
  {
   "cell_type": "markdown",
   "id": "4480d01f-a8dc-4630-b2e3-089f13a0814a",
   "metadata": {
    "tags": []
   },
   "source": [
    "## Simplifying _vpers_ (grammatical number): into [`sg` / `pl`] and [`1`, `2` and `3`]"
   ]
  },
  {
   "cell_type": "markdown",
   "id": "72a220de-be22-4d3c-9c34-1bbd17ee4176",
   "metadata": {},
   "source": [
    "#### English"
   ]
  },
  {
   "cell_type": "code",
   "execution_count": 15,
   "id": "f652351c-6b4e-4c46-a08d-f76b617d4a01",
   "metadata": {},
   "outputs": [
    {
     "data": {
      "text/plain": [
       "array([nan, '3sg', 'free', '2sg', '3pl', '1sg', 'inf', '1pl', 'unclear',\n",
       "       ' ', '2sg-st', '2sg ', '2pl', '3sg-th', '2un'], dtype=object)"
      ]
     },
     "execution_count": 15,
     "metadata": {},
     "output_type": "execute_result"
    }
   ],
   "source": [
    "en.vpers.unique()"
   ]
  },
  {
   "cell_type": "code",
   "execution_count": 16,
   "id": "8c481597-0d83-4680-ade7-43139dd8a292",
   "metadata": {},
   "outputs": [],
   "source": [
    "sg = ['1sg', '2sg', '2sg ', '2sg-st', '3sg', '3sg-th']\n",
    "pl = ['1pl', '2pl', '2un', '3pl']"
   ]
  },
  {
   "cell_type": "code",
   "execution_count": 17,
   "id": "e119d4f7-095d-4b60-8933-53e6009a227a",
   "metadata": {},
   "outputs": [],
   "source": [
    "en.insert(22, \n",
    "          'vpers_grammaticalNumber', \n",
    "         ['sg' if value in sg else 'pl' if value in pl else 'free' if value=='free' else 'inf' if value=='inf' else 'NA' for value in en.vpers]\n",
    "         )"
   ]
  },
  {
   "cell_type": "code",
   "execution_count": 18,
   "id": "033d82ba-98ac-4113-8b92-7b355fc72635",
   "metadata": {},
   "outputs": [
    {
     "data": {
      "text/plain": [
       "array(['NA', 'sg', 'free', 'pl', 'inf'], dtype=object)"
      ]
     },
     "execution_count": 18,
     "metadata": {},
     "output_type": "execute_result"
    }
   ],
   "source": [
    "en.vpers_grammaticalNumber.unique()"
   ]
  },
  {
   "cell_type": "code",
   "execution_count": 19,
   "id": "fec8b678-ab67-4d23-8b5d-7244de44cd03",
   "metadata": {},
   "outputs": [],
   "source": [
    "first = ['1sg', '1pl']\n",
    "second = ['2sg', '2sg ', '2sg-st', '2pl', '2un']\n",
    "third = ['3sg', '3sg-th', '3pl']"
   ]
  },
  {
   "cell_type": "code",
   "execution_count": 20,
   "id": "2a55953d-f86a-425f-9bba-992fee0d4555",
   "metadata": {},
   "outputs": [
    {
     "data": {
      "text/plain": [
       "array([nan, '3sg', 'free', '2sg', '3pl', '1sg', 'inf', '1pl', 'unclear',\n",
       "       ' ', '2sg-st', '2sg ', '2pl', '3sg-th', '2un'], dtype=object)"
      ]
     },
     "execution_count": 20,
     "metadata": {},
     "output_type": "execute_result"
    }
   ],
   "source": [
    "en.vpers.unique()"
   ]
  },
  {
   "cell_type": "code",
   "execution_count": 21,
   "id": "376a79e8-13c2-44f9-9f27-0c0c5b283473",
   "metadata": {},
   "outputs": [],
   "source": [
    "en.insert(23, \n",
    "         'vpers_grammaticalPerson',\n",
    "         ['1' if value in first else '2' if value in second else '3' if value in third else 'free' if value=='free' else 'inf' if value=='inf' else 'NA' for value in en.vpers]\n",
    "         )"
   ]
  },
  {
   "cell_type": "code",
   "execution_count": 22,
   "id": "6c68a005-d17c-4eae-a66a-a890ef708473",
   "metadata": {},
   "outputs": [
    {
     "data": {
      "text/plain": [
       "array(['NA', '3', 'free', '2', '1', 'inf'], dtype=object)"
      ]
     },
     "execution_count": 22,
     "metadata": {},
     "output_type": "execute_result"
    }
   ],
   "source": [
    "en.vpers_grammaticalPerson.unique()"
   ]
  },
  {
   "cell_type": "markdown",
   "id": "cd4e1c1b-9f16-4459-a9ac-b2cb570f5e15",
   "metadata": {},
   "source": [
    "#### French"
   ]
  },
  {
   "cell_type": "code",
   "execution_count": 23,
   "id": "30ca3599-3e92-40af-a04b-9fd1f98d501f",
   "metadata": {},
   "outputs": [
    {
     "data": {
      "text/plain": [
       "array(['3sg', '3pl', 'inf', '2sg', '1pl', '2pl', '1sg', 'pl-imp',\n",
       "       'part.pres', 'sg-imp', nan, 'ger', '2sg-imp', '2pl-imp', '2sg ',\n",
       "       '1pl-imp'], dtype=object)"
      ]
     },
     "execution_count": 23,
     "metadata": {},
     "output_type": "execute_result"
    }
   ],
   "source": [
    "fr.vpers.unique()"
   ]
  },
  {
   "cell_type": "code",
   "execution_count": 24,
   "id": "baa51b3e-bdc0-4231-b832-8fd2a94e98dd",
   "metadata": {},
   "outputs": [],
   "source": [
    "sg_fr = ['1sg', '2sg', '2sg ', '2sg-imp', 'sg-imp', '3sg']\n",
    "pl_fr = ['1pl', '1pl-imp', 'pl-imp', '2pl', '2pl-imp', '3pl']\n",
    "free_fr = ['ger', 'part.pres']"
   ]
  },
  {
   "cell_type": "code",
   "execution_count": 25,
   "id": "98fcebdc-4ef5-4da8-bddc-8f1a5681f159",
   "metadata": {},
   "outputs": [],
   "source": [
    "fr.insert(29,\n",
    "         'vpers_grammaticalNumber',\n",
    "         ['sg' if value in sg_fr else 'pl' if value in pl_fr else 'free' if value in free_fr else 'inf' if value=='inf' else 'NA' for value in fr.vpers]\n",
    "         )"
   ]
  },
  {
   "cell_type": "code",
   "execution_count": 26,
   "id": "fac8e0c5-c64c-4d2c-a461-8a7bd7411337",
   "metadata": {},
   "outputs": [],
   "source": [
    "first_fr = ['1sg', '1pl', '1pl-imp']\n",
    "second_fr = ['2sg', '2sg ', '2sg-imp', 'sg-imp', 'pl-imp', '2pl', '2pl-imp']\n",
    "third_fr = ['3sg', '3pl']\n",
    "rest_fr = ['ger', 'part.pres', 'inf']"
   ]
  },
  {
   "cell_type": "code",
   "execution_count": 27,
   "id": "832e967d-63a3-45b7-80ac-8e1c0cf7fa96",
   "metadata": {},
   "outputs": [],
   "source": [
    "fr.insert(30,\n",
    "          'vpers_grammaticalPerson',\n",
    "          ['1' if value in first_fr else '2' if value in second_fr else '3' if value in third_fr else 'un' if value in rest_fr else 'NA' for value in fr.vpers]\n",
    "         )"
   ]
  },
  {
   "cell_type": "code",
   "execution_count": 28,
   "id": "bb02c656-6400-44f2-8a38-9b3d368e7ae0",
   "metadata": {},
   "outputs": [
    {
     "data": {
      "text/plain": [
       "array(['3', 'un', '2', '1', 'NA'], dtype=object)"
      ]
     },
     "execution_count": 28,
     "metadata": {},
     "output_type": "execute_result"
    }
   ],
   "source": [
    "fr.vpers_grammaticalPerson.unique()"
   ]
  },
  {
   "cell_type": "markdown",
   "id": "c06f5817-2bb6-4dd5-95dc-d97e3d05e5ff",
   "metadata": {},
   "source": [
    "## Simplifying clause: `main`, `relative`, `complement` and `rest`"
   ]
  },
  {
   "cell_type": "markdown",
   "id": "46d42188-dbdc-4499-b44d-bf563a82f9a3",
   "metadata": {},
   "source": [
    "- main\n",
    "- relative (with relative pronoun): rel.r, rel\n",
    "- complement (with complementizer): adjc, adn.that, adn.to, adn.wh, adn.x, nom.x, nom.wh, nom.to, nom.that, nom.ing, inf.x, inf.v, inf.adv, inf.adj\n",
    "- adverbial: adv.prp, adv.for, adv.cond, adv.comp, adv\n",
    "- rest"
   ]
  },
  {
   "cell_type": "code",
   "execution_count": 29,
   "id": "cf451152-8333-44b6-ac73-10abf5be7d6d",
   "metadata": {},
   "outputs": [],
   "source": [
    "relative = ['rel.r', 'rel']\n",
    "complement = ['adjc', 'adn.that', 'adn.to', 'adn.wh', 'adn.x', 'nom.x', 'nom.wh', \n",
    "              'nom.to', 'nom.that', 'nom.ing', 'inf.x', 'inf.v', 'inf.adv', 'inf.adj']\n",
    "adverbial = ['adv.prp', 'adv.for', 'adv.cond', 'adv.comp', 'adv']"
   ]
  },
  {
   "cell_type": "code",
   "execution_count": 30,
   "id": "c0c0e6b9-4a10-495b-b695-4ab794785013",
   "metadata": {},
   "outputs": [],
   "source": [
    "#en.info()"
   ]
  },
  {
   "cell_type": "code",
   "execution_count": 31,
   "id": "93062e2b-8918-40bd-881e-5d8c9ecb3efd",
   "metadata": {},
   "outputs": [],
   "source": [
    "en.insert(20,\n",
    "         'clause_simplified',\n",
    "          ['main' if value=='main' else 'relative' if value in relative else 'complement' if value in complement else 'adverbial' if value in adverbial else 'rest' for value in en.clause]\n",
    "         )"
   ]
  },
  {
   "cell_type": "code",
   "execution_count": 32,
   "id": "3f4a1de1-5980-495f-9972-875ede87fe13",
   "metadata": {},
   "outputs": [
    {
     "data": {
      "text/plain": [
       "array(['rest', 'adverbial', 'complement', 'main', 'relative'],\n",
       "      dtype=object)"
      ]
     },
     "execution_count": 32,
     "metadata": {},
     "output_type": "execute_result"
    }
   ],
   "source": [
    "en.clause_simplified.unique()"
   ]
  },
  {
   "cell_type": "code",
   "execution_count": 33,
   "id": "73c94b8b-020a-4ab8-8d71-5b54c7be9b35",
   "metadata": {},
   "outputs": [],
   "source": [
    "en.insert(21,\n",
    "         'clause_binary',\n",
    "          ['main' if value=='main' else 'not_main' for value in en.clause]\n",
    "         )"
   ]
  },
  {
   "cell_type": "code",
   "execution_count": 34,
   "id": "dc5d3482-3df5-4a5c-b0a7-2f7741b10ded",
   "metadata": {},
   "outputs": [
    {
     "name": "stdout",
     "output_type": "stream",
     "text": [
      "<class 'pandas.core.frame.DataFrame'>\n",
      "RangeIndex: 1494 entries, 0 to 1493\n",
      "Data columns (total 40 columns):\n",
      " #   Column                       Non-Null Count  Dtype \n",
      "---  ------                       --------------  ----- \n",
      " 0   period                       1494 non-null   object\n",
      " 1   period_category              1494 non-null   int64 \n",
      " 2   data_identifier              1494 non-null   object\n",
      " 3   timeframe                    1494 non-null   object\n",
      " 4   author_id                    1494 non-null   int64 \n",
      " 5   text_id_per_author           1494 non-null   int64 \n",
      " 6   authorId_textId              1494 non-null   object\n",
      " 7   filename                     1494 non-null   object\n",
      " 8   title                        1494 non-null   object\n",
      " 9   author                       1493 non-null   object\n",
      " 10  textDate                     1494 non-null   int64 \n",
      " 11  wordcount                    1494 non-null   int64 \n",
      " 12  USTC_subject_classification  1494 non-null   object\n",
      " 13  kind                         1494 non-null   object\n",
      " 14  aspect                       1494 non-null   object\n",
      " 15  cxn                          1494 non-null   object\n",
      " 16  voice                        1054 non-null   object\n",
      " 17  anim                         1043 non-null   object\n",
      " 18  anim_binary                  1494 non-null   object\n",
      " 19  clause                       1054 non-null   object\n",
      " 20  clause_simplified            1494 non-null   object\n",
      " 21  clause_binary                1494 non-null   object\n",
      " 22  pos                          1054 non-null   object\n",
      " 23  vpers                        1054 non-null   object\n",
      " 24  vpers_grammaticalNumber      1494 non-null   object\n",
      " 25  vpers_grammaticalPerson      1494 non-null   object\n",
      " 26  motion                       1054 non-null   object\n",
      " 27  predictiveness               616 non-null    object\n",
      " 28  intentionality               1054 non-null   object\n",
      " 29  lemma                        1054 non-null   object\n",
      " 30  position                     1054 non-null   object\n",
      " 31  position_fronting            698 non-null    object\n",
      " 32  argmt                        697 non-null    object\n",
      " 33  adverbial                    72 non-null     object\n",
      " 34  split                        649 non-null    object\n",
      " 35  attention?                   457 non-null    object\n",
      " 36  preceding_context            1494 non-null   object\n",
      " 37  match                        1494 non-null   object\n",
      " 38  following_context            1494 non-null   object\n",
      " 39  note                         1055 non-null   object\n",
      "dtypes: int64(5), object(35)\n",
      "memory usage: 467.0+ KB\n"
     ]
    }
   ],
   "source": [
    "en.info()"
   ]
  },
  {
   "cell_type": "code",
   "execution_count": 35,
   "id": "f454fe9d-e1e8-4f90-b201-554f0ade66b0",
   "metadata": {},
   "outputs": [
    {
     "name": "stdout",
     "output_type": "stream",
     "text": [
      "<class 'pandas.core.frame.DataFrame'>\n",
      "RangeIndex: 1363 entries, 0 to 1362\n",
      "Data columns (total 40 columns):\n",
      " #   Column                     Non-Null Count  Dtype \n",
      "---  ------                     --------------  ----- \n",
      " 0   timeframe                  1363 non-null   object\n",
      " 1   period_category            1363 non-null   int64 \n",
      " 2   kind                       1363 non-null   object\n",
      " 3   data_identifier            1363 non-null   object\n",
      " 4   author_id                  1363 non-null   int64 \n",
      " 5   text_id_per_author         1363 non-null   int64 \n",
      " 6   authorId_textId            1363 non-null   object\n",
      " 7   fr_source_filename         1363 non-null   object\n",
      " 8   fr_source_title            1363 non-null   object\n",
      " 9   fr_source_author           1363 non-null   object\n",
      " 10  fr_source_textDate         1363 non-null   int64 \n",
      " 11  eebo_genre                 1363 non-null   object\n",
      " 12  fr_source_all_tokens       1363 non-null   int64 \n",
      " 13  en_translation_filename    1363 non-null   object\n",
      " 14  en_translation_title       1363 non-null   object\n",
      " 15  en_translation_translator  1363 non-null   object\n",
      " 16  en_translation_textDate    1363 non-null   int64 \n",
      " 17  en_reference_filename      1363 non-null   object\n",
      " 18  en_reference_title         1363 non-null   object\n",
      " 19  en_reference_author        1363 non-null   object\n",
      " 20  en_reference_textDate      1363 non-null   object\n",
      " 21  en_reference_eebo_genre    1363 non-null   object\n",
      " 22  voice                      1363 non-null   object\n",
      " 23  anim                       1336 non-null   object\n",
      " 24  anim_simplified            1363 non-null   object\n",
      " 25  motion                     1336 non-null   object\n",
      " 26  intentionality             1336 non-null   object\n",
      " 27  predictiveness             169 non-null    object\n",
      " 28  vpers                      1336 non-null   object\n",
      " 29  vpers_grammaticalNumber    1363 non-null   object\n",
      " 30  vpers_grammaticalPerson    1363 non-null   object\n",
      " 31  pos                        1336 non-null   object\n",
      " 32  previous50                 1363 non-null   object\n",
      " 33  prev1                      1363 non-null   object\n",
      " 34  aller                      1363 non-null   object\n",
      " 35  aller_POS                  1363 non-null   object\n",
      " 36  INF                        1363 non-null   object\n",
      " 37  next1                      1363 non-null   object\n",
      " 38  next1_POS                  1363 non-null   object\n",
      " 39  next50                     1363 non-null   object\n",
      "dtypes: int64(6), object(34)\n",
      "memory usage: 426.1+ KB\n"
     ]
    }
   ],
   "source": [
    "fr.info()"
   ]
  },
  {
   "cell_type": "code",
   "execution_count": 36,
   "id": "11b95431-1dce-41d4-b4cb-ed09b3c81ab1",
   "metadata": {},
   "outputs": [
    {
     "data": {
      "text/plain": [
       "array(['yes', 'no', 'indeterminate', nan], dtype=object)"
      ]
     },
     "execution_count": 36,
     "metadata": {},
     "output_type": "execute_result"
    }
   ],
   "source": [
    "fr.motion.unique()"
   ]
  },
  {
   "cell_type": "code",
   "execution_count": 40,
   "id": "b6cdae0a-5a81-413d-aeb8-0afe8acbb529",
   "metadata": {},
   "outputs": [],
   "source": [
    "#en.to_excel('/Users/paulineclaes/Documents/dta/thesis/finaldata/final_GoToInf_withSimplifiedVariables.xlsx',\n",
    "#           index=False,\n",
    "#           na_rep='NA')"
   ]
  },
  {
   "cell_type": "code",
   "execution_count": 56,
   "id": "645e1766-6ddc-483e-85ac-631bcafdfabc",
   "metadata": {},
   "outputs": [],
   "source": [
    "#fr.to_excel('/Users/paulineclaes/Documents/dta/thesis/finaldata/final_AllerINF_withSimplifiedVariables.xlsx',\n",
    "#           index=False,\n",
    "# na_rep='NA')"
   ]
  },
  {
   "cell_type": "code",
   "execution_count": null,
   "id": "8ccbaf5b-4a70-4a1d-8379-54756420d582",
   "metadata": {},
   "outputs": [],
   "source": []
  },
  {
   "cell_type": "markdown",
   "id": "8ee5b5a1-58b3-493b-8bf3-8c84d483a469",
   "metadata": {},
   "source": [
    "#### Replacing 'NA' in predictiveness column with 'not_predict', because otherwise our models will ignore those rows, when they are actually not NA values, but rather meaning that the context is not about predictions.\n",
    "\n",
    "> Importantly, this will also fill 'not_predict' in the rows containing noise. However, this is not a problem as these will be filtered out anyway in the analysis. "
   ]
  },
  {
   "cell_type": "code",
   "execution_count": 41,
   "id": "81d92b0d-b092-4872-bf2f-9bd7181328c3",
   "metadata": {},
   "outputs": [],
   "source": [
    "en = pd.read_excel('/Users/paulineclaes/Documents/dta/thesis/finaldata/final_GoToInf_withSimplifiedVariables.xlsx')\n",
    "fr = pd.read_excel('/Users/paulineclaes/Documents/dta/thesis/finaldata/final_AllerINF_withSimplifiedVariables.xlsx')"
   ]
  },
  {
   "cell_type": "code",
   "execution_count": 42,
   "id": "08f93b22-f745-4397-a47d-f50e39bdef67",
   "metadata": {},
   "outputs": [
    {
     "data": {
      "text/plain": [
       "array([nan, 'predict.x', 'unclear', 'report.x', ' '], dtype=object)"
      ]
     },
     "execution_count": 42,
     "metadata": {},
     "output_type": "execute_result"
    }
   ],
   "source": [
    "en.predictiveness.unique()"
   ]
  },
  {
   "cell_type": "code",
   "execution_count": 43,
   "id": "c36b1a1f-6dee-42a0-8e54-09c331ab4762",
   "metadata": {},
   "outputs": [
    {
     "data": {
      "text/plain": [
       "array([nan, 'report.x', 'predict.x', 'unclear', 'amb'], dtype=object)"
      ]
     },
     "execution_count": 43,
     "metadata": {},
     "output_type": "execute_result"
    }
   ],
   "source": [
    "fr.predictiveness.unique()"
   ]
  },
  {
   "cell_type": "code",
   "execution_count": 44,
   "id": "7d696c73-c026-40df-be9c-ae565e5435dc",
   "metadata": {},
   "outputs": [
    {
     "data": {
      "text/plain": [
       "0     NaN\n",
       "1     NaN\n",
       "2     NaN\n",
       "3     NaN\n",
       "4     NaN\n",
       "5     NaN\n",
       "6     NaN\n",
       "7     NaN\n",
       "8     NaN\n",
       "9     NaN\n",
       "10    NaN\n",
       "11    NaN\n",
       "12    NaN\n",
       "13    NaN\n",
       "14    NaN\n",
       "15    NaN\n",
       "16    NaN\n",
       "17    NaN\n",
       "18    NaN\n",
       "19    NaN\n",
       "Name: predictiveness, dtype: object"
      ]
     },
     "execution_count": 44,
     "metadata": {},
     "output_type": "execute_result"
    }
   ],
   "source": [
    "en.predictiveness.head(20)"
   ]
  },
  {
   "cell_type": "code",
   "execution_count": 47,
   "id": "6449f575-f180-4ac7-88ba-8072f0287fcf",
   "metadata": {},
   "outputs": [],
   "source": [
    "en.predictiveness = en.predictiveness.fillna('not_predict')"
   ]
  },
  {
   "cell_type": "code",
   "execution_count": 48,
   "id": "06de1ce6-cb33-4d53-a593-b1165121c9d6",
   "metadata": {},
   "outputs": [
    {
     "data": {
      "text/plain": [
       "array(['not_predict', 'predict.x', 'unclear', 'report.x', ' '],\n",
       "      dtype=object)"
      ]
     },
     "execution_count": 48,
     "metadata": {},
     "output_type": "execute_result"
    }
   ],
   "source": [
    "en.predictiveness.unique()"
   ]
  },
  {
   "cell_type": "code",
   "execution_count": 49,
   "id": "4426c59d-6763-485f-a28c-fca0fed63947",
   "metadata": {},
   "outputs": [],
   "source": [
    "fr.predictiveness = fr.predictiveness.fillna('not_predict')"
   ]
  },
  {
   "cell_type": "code",
   "execution_count": 50,
   "id": "b0fba050-4e0e-4733-9af3-758cc71988de",
   "metadata": {},
   "outputs": [
    {
     "data": {
      "text/plain": [
       "array(['not_predict', 'report.x', 'predict.x', 'unclear', 'amb'],\n",
       "      dtype=object)"
      ]
     },
     "execution_count": 50,
     "metadata": {},
     "output_type": "execute_result"
    }
   ],
   "source": [
    "fr.predictiveness.unique()"
   ]
  },
  {
   "cell_type": "code",
   "execution_count": 55,
   "id": "0ad5f83b-5691-401e-b64f-63c3dbb5d374",
   "metadata": {},
   "outputs": [],
   "source": [
    "#en.to_excel('/Users/paulineclaes/Documents/dta/thesis/finaldata/final_GoToInf_withSimplifiedVariables.xlsx',\n",
    "   #        index=False,\n",
    "   #        na_rep='NA')"
   ]
  },
  {
   "cell_type": "code",
   "execution_count": 54,
   "id": "0a281e5a-9b16-4b6c-b87b-b6dcdd4a025a",
   "metadata": {},
   "outputs": [],
   "source": [
    "#fr.to_excel('/Users/paulineclaes/Documents/dta/thesis/finaldata/final_AllerINF_withSimplifiedVariables.xlsx',\n",
    "#           index=False,\n",
    "#            na_rep='NA')"
   ]
  },
  {
   "cell_type": "code",
   "execution_count": 58,
   "id": "6189155e-9807-48a7-bed5-499451bc0690",
   "metadata": {},
   "outputs": [
    {
     "data": {
      "text/plain": [
       "array([nan, 'animate', 'inanimate'], dtype=object)"
      ]
     },
     "execution_count": 58,
     "metadata": {},
     "output_type": "execute_result"
    }
   ],
   "source": [
    "en.anim_binary.unique()"
   ]
  },
  {
   "cell_type": "code",
   "execution_count": 59,
   "id": "10cfa644-83d0-483e-b2f6-dc1e619d164f",
   "metadata": {},
   "outputs": [
    {
     "data": {
      "text/plain": [
       "array(['not_predict', 'predict.x', 'unclear', 'report.x', ' '],\n",
       "      dtype=object)"
      ]
     },
     "execution_count": 59,
     "metadata": {},
     "output_type": "execute_result"
    }
   ],
   "source": [
    "en.predictiveness.unique()"
   ]
  },
  {
   "cell_type": "code",
   "execution_count": 60,
   "id": "c7f395ea-946e-4b8e-b413-38d2161de4d8",
   "metadata": {},
   "outputs": [
    {
     "name": "stdout",
     "output_type": "stream",
     "text": [
      "<class 'pandas.core.frame.DataFrame'>\n",
      "RangeIndex: 1494 entries, 0 to 1493\n",
      "Data columns (total 40 columns):\n",
      " #   Column                       Non-Null Count  Dtype \n",
      "---  ------                       --------------  ----- \n",
      " 0   period                       1494 non-null   object\n",
      " 1   period_category              1494 non-null   int64 \n",
      " 2   data_identifier              1494 non-null   object\n",
      " 3   timeframe                    1494 non-null   object\n",
      " 4   author_id                    1494 non-null   int64 \n",
      " 5   text_id_per_author           1494 non-null   int64 \n",
      " 6   authorId_textId              1494 non-null   object\n",
      " 7   filename                     1494 non-null   object\n",
      " 8   title                        1494 non-null   object\n",
      " 9   author                       1493 non-null   object\n",
      " 10  textDate                     1494 non-null   int64 \n",
      " 11  wordcount                    1494 non-null   int64 \n",
      " 12  USTC_subject_classification  1494 non-null   object\n",
      " 13  kind                         1494 non-null   object\n",
      " 14  aspect                       1494 non-null   object\n",
      " 15  cxn                          1494 non-null   object\n",
      " 16  voice                        1054 non-null   object\n",
      " 17  anim                         1043 non-null   object\n",
      " 18  anim_binary                  437 non-null    object\n",
      " 19  clause                       1054 non-null   object\n",
      " 20  clause_simplified            1494 non-null   object\n",
      " 21  clause_binary                1494 non-null   object\n",
      " 22  pos                          1054 non-null   object\n",
      " 23  vpers                        1054 non-null   object\n",
      " 24  vpers_grammaticalNumber      462 non-null    object\n",
      " 25  vpers_grammaticalPerson      462 non-null    object\n",
      " 26  motion                       1054 non-null   object\n",
      " 27  predictiveness               1494 non-null   object\n",
      " 28  intentionality               1054 non-null   object\n",
      " 29  lemma                        1054 non-null   object\n",
      " 30  position                     1054 non-null   object\n",
      " 31  position_fronting            698 non-null    object\n",
      " 32  argmt                        697 non-null    object\n",
      " 33  adverbial                    72 non-null     object\n",
      " 34  split                        649 non-null    object\n",
      " 35  attention?                   457 non-null    object\n",
      " 36  preceding_context            1494 non-null   object\n",
      " 37  match                        1494 non-null   object\n",
      " 38  following_context            1494 non-null   object\n",
      " 39  note                         1055 non-null   object\n",
      "dtypes: int64(5), object(35)\n",
      "memory usage: 467.0+ KB\n"
     ]
    }
   ],
   "source": [
    "en.info()"
   ]
  },
  {
   "cell_type": "code",
   "execution_count": 61,
   "id": "ac846ef9-2928-433a-929a-56b9bf771df4",
   "metadata": {},
   "outputs": [],
   "source": [
    "predict_binary = ['predict.x', 'not_predict']"
   ]
  },
  {
   "cell_type": "code",
   "execution_count": 62,
   "id": "796e2aea-d12b-4162-b50f-dee47572ffa8",
   "metadata": {},
   "outputs": [],
   "source": [
    "en.insert(28, 'predictiveness_binary', [value if value in predict_binary else 'not_predict' for value in en.predictiveness])"
   ]
  },
  {
   "cell_type": "code",
   "execution_count": 63,
   "id": "b4524eab-0b33-4b28-9bbb-055bf3e5ff66",
   "metadata": {},
   "outputs": [
    {
     "data": {
      "text/plain": [
       "array(['not_predict', 'predict.x'], dtype=object)"
      ]
     },
     "execution_count": 63,
     "metadata": {},
     "output_type": "execute_result"
    }
   ],
   "source": [
    "en.predictiveness_binary.unique()"
   ]
  },
  {
   "cell_type": "code",
   "execution_count": 64,
   "id": "116ad493-5cd6-40a4-8ec8-bee516e39d75",
   "metadata": {},
   "outputs": [
    {
     "data": {
      "text/plain": [
       "array(['not_predict', 'report.x', 'predict.x', 'unclear', 'amb'],\n",
       "      dtype=object)"
      ]
     },
     "execution_count": 64,
     "metadata": {},
     "output_type": "execute_result"
    }
   ],
   "source": [
    "fr.predictiveness.unique()"
   ]
  },
  {
   "cell_type": "code",
   "execution_count": 66,
   "id": "8acd9d8f-30db-43bb-8f85-9d3f58d43aa9",
   "metadata": {},
   "outputs": [],
   "source": [
    "fr.insert(28, 'predictiveness_binary', [value if value in predict_binary else 'not_predict' for value in fr.predictiveness])"
   ]
  },
  {
   "cell_type": "code",
   "execution_count": 70,
   "id": "d13f6367-82f1-40e5-a346-9c7ca4be3202",
   "metadata": {},
   "outputs": [],
   "source": [
    "#en.to_excel('/Users/paulineclaes/Documents/dta/thesis/finaldata/final_GoToInf_withSimplifiedVariables.xlsx',\n",
    "#           index=False,\n",
    "#           na_rep='NA')"
   ]
  },
  {
   "cell_type": "code",
   "execution_count": 69,
   "id": "93d736f9-02d1-4f26-a912-1fd784625482",
   "metadata": {},
   "outputs": [],
   "source": [
    "#fr.to_excel('/Users/paulineclaes/Documents/dta/thesis/finaldata/final_AllerINF_withSimplifiedVariables.xlsx',\n",
    "#           index=False,\n",
    "#            na_rep='NA')"
   ]
  },
  {
   "cell_type": "code",
   "execution_count": null,
   "id": "d4b4ff1a-815d-48b2-a016-597dffe79eab",
   "metadata": {},
   "outputs": [],
   "source": []
  }
 ],
 "metadata": {
  "kernelspec": {
   "display_name": "Python 3 (ipykernel)",
   "language": "python",
   "name": "python3"
  },
  "language_info": {
   "codemirror_mode": {
    "name": "ipython",
    "version": 3
   },
   "file_extension": ".py",
   "mimetype": "text/x-python",
   "name": "python",
   "nbconvert_exporter": "python",
   "pygments_lexer": "ipython3",
   "version": "3.9.7"
  }
 },
 "nbformat": 4,
 "nbformat_minor": 5
}
