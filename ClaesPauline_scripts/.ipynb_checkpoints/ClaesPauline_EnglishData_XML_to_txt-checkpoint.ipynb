{
 "cells": [
  {
   "cell_type": "markdown",
   "id": "a19a52bb-c761-4cbe-bd79-c809794de450",
   "metadata": {},
   "source": [
    "Claes Pauline. Master Digital Text Analysis. Student ID: 20163274\n",
    "\n",
    "## English XML data to TXT\n",
    "All English data come in XML format. In order to use AntConc to query it, it needs to be parsed into regular TXT. I used the BeautifulSoup module for this. "
   ]
  },
  {
   "cell_type": "code",
   "execution_count": 1,
   "id": "fe544ce9",
   "metadata": {},
   "outputs": [],
   "source": [
    "import pandas as pd\n",
    "import os, glob\n",
    "from bs4 import BeautifulSoup"
   ]
  },
  {
   "cell_type": "code",
   "execution_count": 22,
   "id": "3defcd06-aea7-4dfb-83cb-3ddf71e8deff",
   "metadata": {},
   "outputs": [],
   "source": [
    "def clean_XML_to_txt(path, kind):\n",
    "    '''\n",
    "    Function that iterates over PWD (so you first have to navigate to the directory that you want it applied to), \n",
    "    looks for all XML files in that directory, reads these in and removes all XML tags so you are only left with \n",
    "    cleaned text. Function then writes this cleaned text to a new file, in a directory of choice that you have to \n",
    "    specify. \n",
    "    \n",
    "    Arguments: \n",
    "            - path: path of the target directory for the cleaned text files\n",
    "            - kind: a specification of the text kind (translation, reference, early, later, ...)\n",
    "            \n",
    "    '''\n",
    "    \n",
    "    for file in glob.glob(\"*.xml\"): # iterate over PWD (present working directory) to find each file ending in .xml extension\n",
    "        with open(file, \"r\") as f: # open each file to read\n",
    "            xml = f.read() # read in data\n",
    "        \n",
    "        # BeautifulSoup to clean text so it does not have any tags left\n",
    "        \n",
    "        soup = BeautifulSoup(xml)\n",
    "        soup_text = soup.findAll(text=True)\n",
    "        clean_text = ' '.join(soup_text)\n",
    "        \n",
    "        filename = file.replace(\".xml\", r\"\")\n",
    "        \n",
    "        # write to new file in new folder\n",
    "        with open(f\"{path}/{kind}_{filename}_cleaned.txt\", \"w\") as t: \n",
    "            t.write(clean_text)"
   ]
  },
  {
   "cell_type": "code",
   "execution_count": null,
   "id": "0d1f485d",
   "metadata": {},
   "outputs": [
    {
     "name": "stdout",
     "output_type": "stream",
     "text": [
      "\n",
      " \n",
      " \n",
      " \n",
      " Essays vvritten in French by Michael Lord of Montaigne, Knight of the Order of S. Michael, gentleman of the French Kings chamber: done into English, according to the last French edition, by Iohn Florio reader of the Italian tongue vnto the Soueraigne Maiestie of Anna, Queene of England, Scotland, France and Ireland, &c. And one of the gentlemen of hir royall priuie chamber \n",
      " Essais. English \n",
      " Montaigne, Michel de, 1533-1592. \n",
      " \n",
      " \n",
      " \n",
      " 1613 \n",
      " \n",
      " \n",
      " Approx. 3150 KB of XML-encoded text transcribed from 322 1-bit group-IV TIFF page images. \n",
      " \n",
      " Text Creation Partnership, \n",
      " Ann Arbor, MI ; Oxford (UK) : \n",
      " 2006-06 (EEBO-TCP Phase 1). \n",
      " A68475 \n",
      " STC 18042 \n",
      " ESTC S111840 \n",
      " 99847105 \n",
      " 99847105 \n",
      " 12117 \n",
      " \n",
      " This keyboarded and encoded edition of the\n",
      "\t       work described above is co-owned by the institutions\n",
      "\t       providing financial support to the Early English Books\n",
      "\t       Online Text Creation Partnership. This Phase I text is\n",
      "\t       available for reuse, according to the terms of  Creative\n",
      "\t       Commons 0 1.0 Universal . The text can be copied,\n",
      "\t       modified, distributed and performed, even for\n",
      "\t       commercial purposes, all without asking permission. \n",
      " \n",
      " \n",
      " \n",
      " Early English books online. \n",
      " \n",
      " \n",
      " (EEBO-TCP ; phase 1, no. A68475) \n",
      " Transcribed from: (Early English Books Online ; image set 12117) \n",
      " Images scanned from microfilm: (Early English books, 1475-1640 ; 1423:5) \n",
      " \n",
      " \n",
      " \n",
      " \n",
      " Essays vvritten in French by Michael Lord of Montaigne, Knight of the Order of S. Michael, gentleman of the French Kings chamber: done into English, according to the last French edition, by Iohn Florio reader of the Italian tongue vnto the Soueraigne Maiestie of Anna, Queene of England, Scotland, France and Ireland, &c. And one of the gentlemen of hir royall priuie chamber \n",
      " Essais. English \n",
      " Montaigne, Michel de, 1533-1592. \n",
      " Florio, John, 1553?-1625. \n",
      " Hole, William, d. 1624, engraver. \n",
      " \n",
      " [12], 630, [2] p. : port. (metal cut)   \n",
      " \n",
      " Printed by Melch. Bradvvood for Edvvard Blount and William Barret, \n",
      " London : \n",
      " 1613. \n",
      " \n",
      " \n",
      " A translation of: Essais. \n",
      " With an engraved portrait of the translator on A6v signed: Gul: Hole sculp:. \n",
      " The second and third books have separate dated title pages; pagination and register are continuous. \n",
      " The last leaf is blank. \n",
      " Reproduction of the original in Cambridge University Library. \n",
      " \n",
      " \n",
      " \n",
      " \n",
      " \n",
      " \n",
      " Created by converting TCP files to TEI P5 using tcp2tei.xsl,\n",
      "      TEI @ Oxford.\n",
      "       \n",
      " \n",
      " \n",
      " EEBO-TCP is a partnership between the Universities of Michigan and Oxford and the publisher ProQuest to create accurately transcribed and encoded texts based on the image sets published by ProQuest via their Early English Books Online (EEBO) database (http://eebo.chadwyck.com). The general aim of EEBO-TCP is to encode one copy (usually the first edition) of every monographic English-language title published between 1473 and 1700 available in EEBO. \n",
      " EEBO-TCP aimed to produce large quantities of textual data within the usual project restraints of time and funding, and therefore chose to create diplomatic transcriptions (as opposed to critical editions) with light-touch, mainly structural encoding based on the Text Encoding Initiative (http://www.tei-c.org). \n",
      " The EEBO-TCP project was divided into two phases. The 25,363 texts created during Phase 1 of the project have been released into the public domain as of 1 January 2015. Anyone can now take and use these texts for their own purposes, but we respectfully request that due credit and attribution is given to their original source. \n",
      " Users should be aware of the process of creating the TCP texts, and therefore of any assumptions that can be made about the data. \n",
      " Text selection was based on the New Cambridge Bibliography of English Literature (NCBEL). If an author (or for an anonymous work, the title) appears in NCBEL, then their works are eligible for inclusion. Selection was intended to range over a wide variety of subject areas, to reflect the true nature of the print record of the period. In general, first editions of a works in English were prioritized, although there are a number of works in other languages, notably Latin and Welsh, included and sometimes a second or later edition of a work was chosen if there was a compelling reason to do so. \n",
      " Image sets were sent to external keying companies for transcription and basic encoding. Quality assurance was then carried out by editorial teams in Oxford and Michigan. 5% (or 5 pages, whichever is the greater) of each text was proofread for accuracy and those which did not meet QA standards were returned to the keyers to be redone. After proofreading, the encoding was enhanced and/or corrected and characters marked as illegible were corrected where possible up to a limit of 100 instances per text. Any remaining illegibles were encoded as <gap>s. Understanding these processes should make clear that, while the overall quality of TCP data is very good, some errors will remain and some readable characters will be marked as illegible. Users should bear in mind that in all likelihood such instances will never have been looked at by a TCP editor. \n",
      " The texts were encoded and linked to page images in accordance with level 4 of the TEI in Libraries guidelines. \n",
      " Copies of the texts have been issued variously as SGML (TCP schema; ASCII text with mnemonic sdata character entities); displayable XML (TCP schema; characters represented either as UTF-8 Unicode or text strings within braces); or lossless XML (TEI P5, characters represented either as UTF-8 Unicode or TEI g elements). \n",
      " Keying and markup guidelines are available at the  Text Creation Partnership web site . \n",
      " \n",
      " \n",
      " \n",
      " \n",
      " \n",
      " \n",
      " \n",
      " \n",
      " eng \n",
      " \n",
      " \n",
      " \n",
      " \n",
      " 2005-11 \n",
      " TCP Assigned for keying and markup \n",
      " \n",
      " 2006-01 \n",
      " Apex CoVantage Keyed and coded from ProQuest page images \n",
      " \n",
      " 2006-02 \n",
      " Mona Logarbo Sampled and proofread \n",
      " \n",
      " 2006-02 \n",
      " Mona Logarbo Text and markup reviewed and edited \n",
      " \n",
      " 2006-04 \n",
      " pfs Batch review (QC) and XML conversion \n",
      " \n",
      " \n",
      " \n",
      " \n",
      " \n",
      " \n",
      " \n",
      " \n",
      " \n",
      " \n",
      "                        IOANNES FLORIVS AVGVSTAE ANNAE ANGL: SCOT: FRANC: ET HIB: REGINAE PRAELECTOR LING: ITALICAE\n",
      "                        CHI SI CONTENTA GODE\n",
      "                         portrait of John Florio \n",
      " AET: 58. A.D. 1611 \n",
      " \n",
      " In virtute suâ contentus, nobilis arte, \n",
      " Italus ore, Anglus pectore, vter \n",
      " \n",
      " \n",
      " \n",
      " que \n",
      "  opere \n",
      " Floret adhuc. et adhuc florebit: floreat vltra \n",
      " \n",
      " FLORIVS,  hâc specie floridus, optat amans. \n",
      " \n",
      " Gul: Hole sculp: \n",
      " Tam foelix vtinam. \n",
      " \n",
      " \n",
      " \n",
      " \n",
      " \n",
      " ESSAYES WRITTEN IN French  By  MICHAEL  Lord of  Montaigne,  Knight of the Order of  S. Michael,  Gentleman of the French  Kings Chamber: DONE INTO ENGLISH, according to the laſt French edition,  by  IOHN FLORIO  Reader of the Jtalian tongue vnto the Soueraigne  Maieſtie of ANNA, Queene of  England, Scotland, France  and  Ireland,  &c. And one of the Gentlemen of hir Royall  Priuie chamber. \n",
      " \n",
      " LONDON:  Printed by  MELCH. BRADVVOOD  for  EDVVARD BLOVNT  and  WILLIAM BARRET. \n",
      " \n",
      " \n",
      " \n",
      " \n",
      "                  TO THE MOST ROYAL AND RENOVMED MAIESTIE of the High-borne Princeſſe ANNA  of  DENMARKE,  by the  Grace of God QVEENE of  England, Scotland, France,  and  Ireland,  &c.\n",
      "                   Imperiall and Incomparable Maieſtie, \n",
      " \n",
      " S Eeing with me, all of me, is in your Royall poſſeſsion, and whatſoeuer pieces of mine haue heeretofore, vnder other ſtarres paſſed the pub like view, come now of right to be vnder the predomination of a Power, that both contain's all their perfections, and hath influences of a more ſublime na ture, I could not but alſo take in this part (wherof time had worn-out the edition) which the world hath long ſince had of mine, and lay it at your Sacred feet, as a me moriall of my deuoted dutie, and to ſhew that where I am, I muſt be all I am, and can not ſtand diſperſed in my obſeruance, being wholly (and therein happy) \n",
      " \n",
      " Your ſacred  MAIESTIES  most humble and loyall ſeruant\n",
      "IOHN FLORIO. \n",
      " \n",
      " \n",
      " \n",
      " \n",
      "                  ALL' AVGVSTA MAESTA DI ANNA,  Seren. ma \n",
      " ▪ \n",
      "  REGINA  d ' Inghilterra,  di  Scotia,  di  Francia,  & d ' Irlanda, &c.\n",
      "                   \n",
      " C \n",
      " \n",
      " \n",
      " He ſi può dir di  VOI,  ſomma  REGINA, \n",
      " \n",
      " Che non ſia detto delle più lodate \n",
      " Di Magnanimità,  Ʋ irtù, Beltate, \n",
      " Incomparabile, Sopra-diuina? \n",
      " Anzi, che ſtile tanto ſi raffina, \n",
      " Che non ſia vinto dalla Maeſtate, \n",
      " L' Altezza, la Chiarezza, la Bontate, \n",
      " Alla qual' ogni cuor di-cuor s' inchina? \n",
      " La qual di tutti honori'l ſpecchio mostra, \n",
      " La qual' il pregio Sour a tutte tiene; \n",
      " \n",
      " ANNA,  l' anello della Gioia nostra. \n",
      " La nostra ſicurtà, la nostra ſpene; \n",
      " \n",
      " VIEN DALL' ECCELSO LA GRANDEZZA  vo ſtra; \n",
      " Dalla  GRANDEZZA  vostra'l nostro bene. \n",
      " \n",
      " \n",
      " Il Candido \n",
      " \n",
      " \n",
      " \n",
      " \n",
      "                  TO THE READER.\n",
      "                   \n",
      " E Nough, if not too much, hath been ſayd of this Tranſlation. If the faults found euen by my ſelfe in the firſt impreſſion, be now by the Printer corre cted, as he was directed, the worke is much amen ded: If not, know, that through mine attendance on hir Maieſtie, I could not intend-it; and blame not  Neptune  for thy ſecond ſhipwracke. Let me conclude with this worthie mans daughter of alliance:  Que t'en ſemble donc lecteur? \n",
      " \n",
      " \n",
      " Still reſolute IOHN FLORIO. \n",
      " \n",
      " \n",
      " \n",
      "                  To my deare brother and friend  M. IOHN FLORIO,  one of the Gentlemen of hir Maieſties most  Royall Priuie Chamber. \n",
      " \n",
      " \n",
      " B Ooks, like ſuperfluous humors bred with eaſe, \n",
      " So ſtuffe the world, as it becomes opprest \n",
      " With taking more than it can well digeſt; \n",
      " And now are turnd to be a great diſeaſe. \n",
      " \n",
      " \n",
      " For by this ouer charging we confound \n",
      " The appetite of skill they had before: \n",
      " There be'ng no end of words, nor any bound \n",
      " Set to conceit the Ocean without ſhore. \n",
      " As if man laboured with himſelfe to be \n",
      " As infinite in writing, as intents; \n",
      " And draw his manifold vncertaintie \n",
      " In any ſhape that paſsion repreſents: \n",
      " That theſe innumerable images \n",
      " And figures of opinion and diſcourſe \n",
      " Draw'n out in leaves, may be the witneſſes \n",
      " Of our defects much rather than our force. \n",
      " And this p\n"
     ]
    }
   ],
   "source": [
    "\n",
    "# EXAMPLE ILLUSTRATION OF WHAT BEAUTIFUL SOUP DOES \n",
    "\n",
    "with open(\"A68475.xml\", \"r\") as f: \n",
    "    xml = f.read()\n",
    "\n",
    "soup = BeautifulSoup(xml)    # txt is simply the a string with your XML file\n",
    "pageText = soup.findAll(text=True)\n",
    "text = ' '.join(pageText)\n",
    "print(text[:10000])"
   ]
  },
  {
   "cell_type": "code",
   "execution_count": 11,
   "id": "c1fa33b1",
   "metadata": {},
   "outputs": [],
   "source": [
    "clean_XML_to_txt(\"BeautifulSoup_cleaned\")"
   ]
  },
  {
   "cell_type": "code",
   "execution_count": 3,
   "id": "3b9bb6a8",
   "metadata": {},
   "outputs": [
    {
     "name": "stdout",
     "output_type": "stream",
     "text": [
      "BeautifulSoup_cleaned/laterReference_A52146_cleaned.txt\n"
     ]
    }
   ],
   "source": [
    "path = \"BeautifulSoup_cleaned\"\n",
    "kind = \"laterReference\"\n",
    "\n",
    "filename = \"A52146\"\n",
    "\n",
    "print(f\"{path}/{kind}_{filename}_cleaned.txt\")"
   ]
  },
  {
   "cell_type": "code",
   "execution_count": 23,
   "id": "095aae83",
   "metadata": {},
   "outputs": [
    {
     "name": "stdout",
     "output_type": "stream",
     "text": [
      "/Users/paulineclaes/Documents/dta/thesis/Data/XML/AddData/LaterReference\n"
     ]
    }
   ],
   "source": [
    "cd /Users/paulineclaes/Documents/dta/thesis/Data/XML/AddData/LaterReference"
   ]
  },
  {
   "cell_type": "code",
   "execution_count": 24,
   "id": "b21e837d",
   "metadata": {},
   "outputs": [],
   "source": [
    "clean_XML_to_txt(path = \"../AddData_cleaned\", kind = \"LaterReference\")"
   ]
  },
  {
   "cell_type": "code",
   "execution_count": 26,
   "id": "c71ad48c",
   "metadata": {},
   "outputs": [
    {
     "name": "stdout",
     "output_type": "stream",
     "text": [
      "/Users/paulineclaes/Documents/dta/thesis/Data/XML/AddData/LaterTranslation\n"
     ]
    }
   ],
   "source": [
    "cd /Users/paulineclaes/Documents/dta/thesis/Data/XML/AddData/LaterTranslation"
   ]
  },
  {
   "cell_type": "code",
   "execution_count": 27,
   "id": "5c7292b4",
   "metadata": {},
   "outputs": [],
   "source": [
    "clean_XML_to_txt(path = \"../AddData_cleaned\", kind = \"LaterTranslation\")"
   ]
  },
  {
   "cell_type": "code",
   "execution_count": 28,
   "id": "28cb4329",
   "metadata": {},
   "outputs": [
    {
     "name": "stdout",
     "output_type": "stream",
     "text": [
      "/Users/paulineclaes/Documents/dta/thesis/Data/XML/AddData/EarlyReference\n"
     ]
    }
   ],
   "source": [
    "cd /Users/paulineclaes/Documents/dta/thesis/Data/XML/AddData/EarlyReference"
   ]
  },
  {
   "cell_type": "code",
   "execution_count": 29,
   "id": "dc0cb04d",
   "metadata": {},
   "outputs": [],
   "source": [
    "clean_XML_to_txt(path = \"../AddData_cleaned\", kind = \"EarlyReference\")"
   ]
  },
  {
   "cell_type": "code",
   "execution_count": 30,
   "id": "6e68fb51",
   "metadata": {},
   "outputs": [
    {
     "name": "stdout",
     "output_type": "stream",
     "text": [
      "/Users/paulineclaes/Documents/dta/thesis/Data/XML/AddData/EarlyTranslation\n"
     ]
    }
   ],
   "source": [
    "cd /Users/paulineclaes/Documents/dta/thesis/Data/XML/AddData/EarlyTranslation"
   ]
  },
  {
   "cell_type": "code",
   "execution_count": 31,
   "id": "5f536a3f",
   "metadata": {},
   "outputs": [],
   "source": [
    "clean_XML_to_txt(path = \"../AddData_cleaned\", kind = \"EarlyTranslation\")"
   ]
  },
  {
   "cell_type": "code",
   "execution_count": null,
   "id": "a8c6439c",
   "metadata": {},
   "outputs": [],
   "source": []
  }
 ],
 "metadata": {
  "kernelspec": {
   "display_name": "Python 3 (ipykernel)",
   "language": "python",
   "name": "python3"
  },
  "language_info": {
   "codemirror_mode": {
    "name": "ipython",
    "version": 3
   },
   "file_extension": ".py",
   "mimetype": "text/x-python",
   "name": "python",
   "nbconvert_exporter": "python",
   "pygments_lexer": "ipython3",
   "version": "3.9.7"
  }
 },
 "nbformat": 4,
 "nbformat_minor": 5
}
