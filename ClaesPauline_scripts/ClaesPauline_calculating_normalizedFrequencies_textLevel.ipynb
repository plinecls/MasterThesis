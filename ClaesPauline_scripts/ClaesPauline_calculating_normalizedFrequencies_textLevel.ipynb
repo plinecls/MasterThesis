{
 "cells": [
  {
   "cell_type": "markdown",
   "id": "ae592172-93de-4309-af60-b0d6106c707e",
   "metadata": {},
   "source": [
    "Claes Pauline. Master Digital Text Analysis. Student ID: 20163274\n",
    "\n",
    "# Calculating normalized frequencies on text level \n",
    "\n",
    "\n",
    "In this file, normalized frequencies of the constructions themselves as well as of certain context parameters will be calculated on **text level**. \n",
    "\n",
    "<u>How will I go about this?</u>\n",
    "In order to calculate normalized frequency of a certain observation, the raw number of observations is divided by the word count of the subcorpus in which this observation is made, and multiplied by 1,000,000. So, if we want to obtain the normalized frequency of a certain observation (e.g. _be going to_-construction), we consider the text in which it  occurs to be the 'subcorpus'. That means, that the number of observations is divided by the word count of a certain text and multiplied by 1,000,000. \n",
    "\n",
    "For example, we want to count how many times the word 'thesis' occurs in a text in our corpus, taking into account that each row in the dataframe equals 1 observation\n",
    "- group by file name\n",
    "- count number of rows for that file name and insert it in a column\n",
    "- divide the number of rows (so the number of observations) by the word count of that text, and multiply by 1,000,000\n"
   ]
  },
  {
   "cell_type": "code",
   "execution_count": 1,
   "id": "d7600713",
   "metadata": {},
   "outputs": [],
   "source": [
    "import pandas as pd\n",
    "import numpy as np"
   ]
  },
  {
   "cell_type": "code",
   "execution_count": 3,
   "id": "8a2878df",
   "metadata": {},
   "outputs": [],
   "source": [
    "temp_en = pd.read_excel('/Users/paulineclaes/Documents/dta/thesis/ClaesPauline_thesis_finaleversie/ClaesPauline_data/ClaesPauline_final_GoToInf.xlsx')"
   ]
  },
  {
   "cell_type": "code",
   "execution_count": 4,
   "id": "07370257",
   "metadata": {},
   "outputs": [
    {
     "data": {
      "text/html": [
       "<div>\n",
       "<style scoped>\n",
       "    .dataframe tbody tr th:only-of-type {\n",
       "        vertical-align: middle;\n",
       "    }\n",
       "\n",
       "    .dataframe tbody tr th {\n",
       "        vertical-align: top;\n",
       "    }\n",
       "\n",
       "    .dataframe thead th {\n",
       "        text-align: right;\n",
       "    }\n",
       "</style>\n",
       "<table border=\"1\" class=\"dataframe\">\n",
       "  <thead>\n",
       "    <tr style=\"text-align: right;\">\n",
       "      <th></th>\n",
       "      <th>period</th>\n",
       "      <th>period_category</th>\n",
       "      <th>data_identifier</th>\n",
       "      <th>timeframe</th>\n",
       "      <th>author_id</th>\n",
       "      <th>text_id_per_author</th>\n",
       "      <th>authorId_textId</th>\n",
       "      <th>filename</th>\n",
       "      <th>title</th>\n",
       "      <th>author</th>\n",
       "      <th>...</th>\n",
       "      <th>position</th>\n",
       "      <th>position_fronting</th>\n",
       "      <th>argmt</th>\n",
       "      <th>adverbial</th>\n",
       "      <th>split</th>\n",
       "      <th>attention?</th>\n",
       "      <th>preceding_context</th>\n",
       "      <th>match</th>\n",
       "      <th>following_context</th>\n",
       "      <th>note</th>\n",
       "    </tr>\n",
       "  </thead>\n",
       "  <tbody>\n",
       "    <tr>\n",
       "      <th>0</th>\n",
       "      <td>1600-1609</td>\n",
       "      <td>3</td>\n",
       "      <td>ET13</td>\n",
       "      <td>early</td>\n",
       "      <td>11</td>\n",
       "      <td>1</td>\n",
       "      <td>11_1</td>\n",
       "      <td>A05339.xml</td>\n",
       "      <td>Noua Francia : or The description of that part...</td>\n",
       "      <td>Erondelle, P.</td>\n",
       "      <td>...</td>\n",
       "      <td>NaN</td>\n",
       "      <td>NaN</td>\n",
       "      <td>NaN</td>\n",
       "      <td>NaN</td>\n",
       "      <td>NaN</td>\n",
       "      <td>NaN</td>\n",
       "      <td>, neere about the  Açors,  well fil led with ...</td>\n",
       "      <td>going</td>\n",
       "      <td>a fiſhing for New-found-land-fiſh. And they as...</td>\n",
       "      <td>NaN</td>\n",
       "    </tr>\n",
       "    <tr>\n",
       "      <th>1</th>\n",
       "      <td>1600-1609</td>\n",
       "      <td>3</td>\n",
       "      <td>ET09</td>\n",
       "      <td>early</td>\n",
       "      <td>8</td>\n",
       "      <td>1</td>\n",
       "      <td>8_1</td>\n",
       "      <td>A01991.xml</td>\n",
       "      <td>Admirable and memorable histories containing t...</td>\n",
       "      <td>Grimeston, Edward</td>\n",
       "      <td>...</td>\n",
       "      <td>NaN</td>\n",
       "      <td>NaN</td>\n",
       "      <td>NaN</td>\n",
       "      <td>NaN</td>\n",
       "      <td>NaN</td>\n",
       "      <td>NaN</td>\n",
       "      <td>, by reason of the greatnesse and length. Thi...</td>\n",
       "      <td>going</td>\n",
       "      <td>a iourney with his Wa gon, was be-nighted and ...</td>\n",
       "      <td>NaN</td>\n",
       "    </tr>\n",
       "    <tr>\n",
       "      <th>2</th>\n",
       "      <td>1600-1609</td>\n",
       "      <td>3</td>\n",
       "      <td>ET13</td>\n",
       "      <td>early</td>\n",
       "      <td>11</td>\n",
       "      <td>1</td>\n",
       "      <td>11_1</td>\n",
       "      <td>A05339.xml</td>\n",
       "      <td>Noua Francia : or The description of that part...</td>\n",
       "      <td>Erondelle, P.</td>\n",
       "      <td>...</td>\n",
       "      <td>NaN</td>\n",
       "      <td>NaN</td>\n",
       "      <td>NaN</td>\n",
       "      <td>NaN</td>\n",
       "      <td>NaN</td>\n",
       "      <td>NaN</td>\n",
       "      <td>hogſ heads of Meale, which were giuen to the...</td>\n",
       "      <td>going</td>\n",
       "      <td>a way.  The eleuenth of Auguſt the ſaid  Monſi...</td>\n",
       "      <td>NaN</td>\n",
       "    </tr>\n",
       "    <tr>\n",
       "      <th>3</th>\n",
       "      <td>1600-1609</td>\n",
       "      <td>3</td>\n",
       "      <td>ET14</td>\n",
       "      <td>early</td>\n",
       "      <td>12</td>\n",
       "      <td>1</td>\n",
       "      <td>12_1</td>\n",
       "      <td>99850354.xml</td>\n",
       "      <td>Fovvre bookes, of the institution, vse and doc...</td>\n",
       "      <td>anon10</td>\n",
       "      <td>...</td>\n",
       "      <td>NaN</td>\n",
       "      <td>NaN</td>\n",
       "      <td>NaN</td>\n",
       "      <td>NaN</td>\n",
       "      <td>NaN</td>\n",
       "      <td>NaN</td>\n",
       "      <td>:               that is,               of a s...</td>\n",
       "      <td>going</td>\n",
       "      <td>about it seauen               times,          ...</td>\n",
       "      <td>NaN</td>\n",
       "    </tr>\n",
       "    <tr>\n",
       "      <th>4</th>\n",
       "      <td>1600-1609</td>\n",
       "      <td>3</td>\n",
       "      <td>ET14</td>\n",
       "      <td>early</td>\n",
       "      <td>12</td>\n",
       "      <td>1</td>\n",
       "      <td>12_1</td>\n",
       "      <td>99850354.xml</td>\n",
       "      <td>Fovvre bookes, of the institution, vse and doc...</td>\n",
       "      <td>anon10</td>\n",
       "      <td>...</td>\n",
       "      <td>NaN</td>\n",
       "      <td>NaN</td>\n",
       "      <td>NaN</td>\n",
       "      <td>NaN</td>\n",
       "      <td>NaN</td>\n",
       "      <td>NaN</td>\n",
       "      <td>impotencie                weaknesse          ...</td>\n",
       "      <td>going</td>\n",
       "      <td>about to adore the Head in heauen,            ...</td>\n",
       "      <td>NaN</td>\n",
       "    </tr>\n",
       "  </tbody>\n",
       "</table>\n",
       "<p>5 rows × 41 columns</p>\n",
       "</div>"
      ],
      "text/plain": [
       "      period  period_category data_identifier timeframe  author_id  \\\n",
       "0  1600-1609                3            ET13     early         11   \n",
       "1  1600-1609                3            ET09     early          8   \n",
       "2  1600-1609                3            ET13     early         11   \n",
       "3  1600-1609                3            ET14     early         12   \n",
       "4  1600-1609                3            ET14     early         12   \n",
       "\n",
       "   text_id_per_author authorId_textId      filename  \\\n",
       "0                   1            11_1    A05339.xml   \n",
       "1                   1             8_1    A01991.xml   \n",
       "2                   1            11_1    A05339.xml   \n",
       "3                   1            12_1  99850354.xml   \n",
       "4                   1            12_1  99850354.xml   \n",
       "\n",
       "                                               title             author  ...  \\\n",
       "0  Noua Francia : or The description of that part...      Erondelle, P.  ...   \n",
       "1  Admirable and memorable histories containing t...  Grimeston, Edward  ...   \n",
       "2  Noua Francia : or The description of that part...      Erondelle, P.  ...   \n",
       "3  Fovvre bookes, of the institution, vse and doc...             anon10  ...   \n",
       "4  Fovvre bookes, of the institution, vse and doc...             anon10  ...   \n",
       "\n",
       "   position position_fronting argmt adverbial split attention?  \\\n",
       "0       NaN               NaN   NaN       NaN   NaN        NaN   \n",
       "1       NaN               NaN   NaN       NaN   NaN        NaN   \n",
       "2       NaN               NaN   NaN       NaN   NaN        NaN   \n",
       "3       NaN               NaN   NaN       NaN   NaN        NaN   \n",
       "4       NaN               NaN   NaN       NaN   NaN        NaN   \n",
       "\n",
       "                                   preceding_context                 match  \\\n",
       "0   , neere about the  Açors,  well fil led with ...                going    \n",
       "1   , by reason of the greatnesse and length. Thi...                going    \n",
       "2    hogſ heads of Meale, which were giuen to the...                going    \n",
       "3   :               that is,               of a s...  going                  \n",
       "4   impotencie                weaknesse          ...  going                  \n",
       "\n",
       "                                   following_context note  \n",
       "0  a fiſhing for New-found-land-fiſh. And they as...  NaN  \n",
       "1  a iourney with his Wa gon, was be-nighted and ...  NaN  \n",
       "2  a way.  The eleuenth of Auguſt the ſaid  Monſi...  NaN  \n",
       "3  about it seauen               times,          ...  NaN  \n",
       "4  about to adore the Head in heauen,            ...  NaN  \n",
       "\n",
       "[5 rows x 41 columns]"
      ]
     },
     "execution_count": 4,
     "metadata": {},
     "output_type": "execute_result"
    }
   ],
   "source": [
    "temp_en.head()"
   ]
  },
  {
   "cell_type": "code",
   "execution_count": 5,
   "id": "10430479-e85e-4280-b3cc-359fca62e69e",
   "metadata": {},
   "outputs": [
    {
     "data": {
      "text/plain": [
       "array(['noise', '[BE about Ving]+[GO to V]', '[free-adjunct]+[GO to V]',\n",
       "       '[BE Ving]+[GO to V]', '[GO to V]'], dtype=object)"
      ]
     },
     "execution_count": 5,
     "metadata": {},
     "output_type": "execute_result"
    }
   ],
   "source": [
    "# check the unique values\n",
    "temp_en.cxn.unique()"
   ]
  },
  {
   "cell_type": "code",
   "execution_count": 6,
   "id": "143eee72-557c-4703-8d5a-05bffcae039b",
   "metadata": {},
   "outputs": [],
   "source": [
    "# remove noise\n",
    "en = temp_en.drop(temp_en[(temp_en.cxn == 'noise') | (temp_en.cxn == '[BE about Ving]+[GO to V]')].index)"
   ]
  },
  {
   "cell_type": "code",
   "execution_count": 7,
   "id": "bff7a617-281a-4939-89c6-74dd627b9b1d",
   "metadata": {},
   "outputs": [],
   "source": [
    "# extracting progressive and nonProgressive\n",
    "\n",
    "en_progr = en.drop(en[(en.aspect != 'progressive')].index)\n",
    "en_nonprogr = en.drop(en[(en.aspect != 'nonProgressive')].index)"
   ]
  },
  {
   "cell_type": "code",
   "execution_count": 8,
   "id": "0ea04bd0-4cad-4b22-bc10-804f34f64bf2",
   "metadata": {},
   "outputs": [
    {
     "data": {
      "text/plain": [
       "array(['[free-adjunct]+[GO to V]', '[BE Ving]+[GO to V]', '[GO to V]'],\n",
       "      dtype=object)"
      ]
     },
     "execution_count": 8,
     "metadata": {},
     "output_type": "execute_result"
    }
   ],
   "source": [
    "en.cxn.unique()"
   ]
  },
  {
   "cell_type": "code",
   "execution_count": 9,
   "id": "d98e6410-91d5-4786-9213-c0a8d6446eaa",
   "metadata": {},
   "outputs": [
    {
     "data": {
      "text/plain": [
       "array(['[free-adjunct]+[GO to V]', '[BE Ving]+[GO to V]'], dtype=object)"
      ]
     },
     "execution_count": 9,
     "metadata": {},
     "output_type": "execute_result"
    }
   ],
   "source": [
    "en_progr.cxn.unique()"
   ]
  },
  {
   "cell_type": "code",
   "execution_count": 10,
   "id": "5a432b43-d64e-4922-b5e3-83fc2d3968e8",
   "metadata": {},
   "outputs": [
    {
     "data": {
      "text/plain": [
       "array(['[GO to V]'], dtype=object)"
      ]
     },
     "execution_count": 10,
     "metadata": {},
     "output_type": "execute_result"
    }
   ],
   "source": [
    "en_nonprogr.cxn.unique()"
   ]
  },
  {
   "cell_type": "code",
   "execution_count": 11,
   "id": "af89609a-8d6f-460b-acfe-2bed2df07196",
   "metadata": {},
   "outputs": [],
   "source": [
    "# constructing a dictionary with unique authorId_textIds and their number of concordances (both go-constructions)\n",
    "rows_dict_both = {key:len(value) for key, value in en.groupby('authorId_textId').groups.items()}\n",
    "\n",
    "# constructing a dictionary with unique authorId_textIds and their number of PROGRESSIVE concordances\n",
    "rows_dict_progr = {key:len(value) for key, value in en_progr.groupby('authorId_textId').groups.items()}\n",
    "\n",
    "# constructing a dictionary with unique authorId_textIds and their number of NONPROGRESSIVE concordances\n",
    "rows_dict_nonprogr = {key:len(value) for key, value in en_nonprogr.groupby('authorId_textId').groups.items()}"
   ]
  },
  {
   "cell_type": "code",
   "execution_count": 12,
   "id": "eae77a3d-1465-4b9e-998a-834c8008a9ef",
   "metadata": {},
   "outputs": [
    {
     "name": "stdout",
     "output_type": "stream",
     "text": [
      "<class 'pandas.core.frame.DataFrame'>\n",
      "Int64Index: 458 entries, 19 to 1493\n",
      "Data columns (total 41 columns):\n",
      " #   Column                       Non-Null Count  Dtype \n",
      "---  ------                       --------------  ----- \n",
      " 0   period                       458 non-null    object\n",
      " 1   period_category              458 non-null    int64 \n",
      " 2   data_identifier              458 non-null    object\n",
      " 3   timeframe                    458 non-null    object\n",
      " 4   author_id                    458 non-null    int64 \n",
      " 5   text_id_per_author           458 non-null    int64 \n",
      " 6   authorId_textId              458 non-null    object\n",
      " 7   filename                     458 non-null    object\n",
      " 8   title                        458 non-null    object\n",
      " 9   author                       457 non-null    object\n",
      " 10  textDate                     458 non-null    int64 \n",
      " 11  wordcount                    458 non-null    object\n",
      " 12  USTC_subject_classification  458 non-null    object\n",
      " 13  kind                         458 non-null    object\n",
      " 14  aspect                       458 non-null    object\n",
      " 15  cxn                          458 non-null    object\n",
      " 16  voice                        458 non-null    object\n",
      " 17  anim                         447 non-null    object\n",
      " 18  anim_binary                  433 non-null    object\n",
      " 19  clause                       458 non-null    object\n",
      " 20  clause_simplified            458 non-null    object\n",
      " 21  clause_binary                458 non-null    object\n",
      " 22  pos                          458 non-null    object\n",
      " 23  vpers                        458 non-null    object\n",
      " 24  vpers_grammaticalNumber      456 non-null    object\n",
      " 25  vpers_grammaticalPerson      456 non-null    object\n",
      " 26  motion                       458 non-null    object\n",
      " 27  predictiveness               458 non-null    object\n",
      " 28  predictiveness_binary        458 non-null    object\n",
      " 29  intentionality               458 non-null    object\n",
      " 30  lemma                        458 non-null    object\n",
      " 31  position                     458 non-null    object\n",
      " 32  position_fronting            108 non-null    object\n",
      " 33  argmt                        107 non-null    object\n",
      " 34  adverbial                    72 non-null     object\n",
      " 35  split                        59 non-null     object\n",
      " 36  attention?                   451 non-null    object\n",
      " 37  preceding_context            458 non-null    object\n",
      " 38  match                        458 non-null    object\n",
      " 39  following_context            458 non-null    object\n",
      " 40  note                         458 non-null    object\n",
      "dtypes: int64(4), object(37)\n",
      "memory usage: 166.4+ KB\n"
     ]
    }
   ],
   "source": [
    "en.info()"
   ]
  },
  {
   "cell_type": "code",
   "execution_count": 13,
   "id": "8beff8d4-6ab6-4e2c-a074-bcd6e7c578bd",
   "metadata": {},
   "outputs": [],
   "source": [
    "# selecting only interesting columns\n",
    "temp_new_df = en[['author', 'author_id', 'text_id_per_author', 'authorId_textId', 'textDate','timeframe', 'kind', 'USTC_subject_classification','period', 'period_category', 'wordcount']]"
   ]
  },
  {
   "cell_type": "code",
   "execution_count": 14,
   "id": "4bb19cc8-eb42-44af-9ebd-bdf36f458c8c",
   "metadata": {},
   "outputs": [],
   "source": [
    "# keeping only unique authorId_textIds\n",
    "new_df_en = temp_new_df.drop_duplicates(subset=['authorId_textId'])"
   ]
  },
  {
   "cell_type": "code",
   "execution_count": 15,
   "id": "e25ceb20-aaba-4085-a665-71e7092e4eb8",
   "metadata": {},
   "outputs": [
    {
     "data": {
      "text/plain": [
       "True"
      ]
     },
     "execution_count": 15,
     "metadata": {},
     "output_type": "execute_result"
    }
   ],
   "source": [
    "len(new_df_en) == len(new_df_en.authorId_textId.unique())"
   ]
  },
  {
   "cell_type": "code",
   "execution_count": 16,
   "id": "2227b315-96b9-479e-935f-e8b19e288a74",
   "metadata": {},
   "outputs": [
    {
     "name": "stdout",
     "output_type": "stream",
     "text": [
      "<class 'pandas.core.frame.DataFrame'>\n",
      "Int64Index: 52 entries, 19 to 1489\n",
      "Data columns (total 11 columns):\n",
      " #   Column                       Non-Null Count  Dtype \n",
      "---  ------                       --------------  ----- \n",
      " 0   author                       52 non-null     object\n",
      " 1   author_id                    52 non-null     int64 \n",
      " 2   text_id_per_author           52 non-null     int64 \n",
      " 3   authorId_textId              52 non-null     object\n",
      " 4   textDate                     52 non-null     int64 \n",
      " 5   timeframe                    52 non-null     object\n",
      " 6   kind                         52 non-null     object\n",
      " 7   USTC_subject_classification  52 non-null     object\n",
      " 8   period                       52 non-null     object\n",
      " 9   period_category              52 non-null     int64 \n",
      " 10  wordcount                    52 non-null     object\n",
      "dtypes: int64(4), object(7)\n",
      "memory usage: 4.9+ KB\n"
     ]
    }
   ],
   "source": [
    "new_df_en.info()"
   ]
  },
  {
   "cell_type": "code",
   "execution_count": 16,
   "id": "b96aea99-3b46-415b-ab10-6f17844d7688",
   "metadata": {},
   "outputs": [],
   "source": [
    "# inserting column with raw number of instances per authorId_textId of BOTH constructions\n",
    "new_df_en.insert(11, 'both', new_df_en['authorId_textId'].map(rows_dict_both))"
   ]
  },
  {
   "cell_type": "code",
   "execution_count": 17,
   "id": "d0a206a6-1d20-4e4e-a35b-69b11a947970",
   "metadata": {},
   "outputs": [],
   "source": [
    "# inserting column with raw number of instances per authorId_textId of PROGRESSIVE construction\n",
    "new_df_en.insert(12, 'progr', new_df_en['authorId_textId'].map(rows_dict_progr))"
   ]
  },
  {
   "cell_type": "code",
   "execution_count": 18,
   "id": "32cce535-7575-4ab0-9bfb-c6041b41cb07",
   "metadata": {},
   "outputs": [],
   "source": [
    "# inserting column with raw number of instances per authorId_textId of NONPROGRESSIVE construction\n",
    "new_df_en.insert(13, 'nonprogr', new_df_en['authorId_textId'].map(rows_dict_nonprogr))"
   ]
  },
  {
   "cell_type": "code",
   "execution_count": 19,
   "id": "2f93b44d-d69f-488f-badb-6fb7240e2afd",
   "metadata": {},
   "outputs": [],
   "source": [
    "new_df_en = new_df_en.fillna(0)"
   ]
  },
  {
   "cell_type": "code",
   "execution_count": 20,
   "id": "1acfa16b-bd3e-44c6-9b6d-dbedb19e2e1d",
   "metadata": {},
   "outputs": [],
   "source": [
    "def calculator(df, condition, grouping_object='authorId_textId'):\n",
    "    new_df = df.drop(df[condition].index)\n",
    "    rows_dict = {key:len(value) for key, value in new_df.groupby(grouping_object).groups.items()}\n",
    "    return rows_dict"
   ]
  },
  {
   "cell_type": "code",
   "execution_count": 21,
   "id": "16b4cf0b-5fe8-4592-b1d7-63ecfe76eade",
   "metadata": {},
   "outputs": [],
   "source": [
    "col_dict = {}"
   ]
  },
  {
   "cell_type": "code",
   "execution_count": 22,
   "id": "d3c1c3c9-61ea-4d53-855d-cca54f8063c8",
   "metadata": {},
   "outputs": [],
   "source": [
    "# motion\n",
    "both_motion_yes = calculator(en, (en.motion != 'yes'))\n",
    "col_dict['both_motion_yes'] = both_motion_yes\n",
    "\n",
    "both_motion_no = calculator(en, (en.motion != 'no'))\n",
    "col_dict['both_motion_no'] = both_motion_no\n",
    "\n",
    "progr_motion_yes = calculator(en_progr, (en_progr.motion != 'yes'))\n",
    "col_dict['progr_motion_yes'] = progr_motion_yes \n",
    "\n",
    "progr_motion_no = calculator(en_progr, (en_progr.motion != 'no'))\n",
    "col_dict['progr_motion_no'] = progr_motion_no \n",
    "\n",
    "nonprogr_motion_yes = calculator(en_nonprogr, (en_nonprogr.motion != 'yes'))\n",
    "col_dict['nonprogr_motion_yes'] = nonprogr_motion_yes \n",
    "\n",
    "nonprogr_motion_no = calculator(en_nonprogr, (en_nonprogr.motion != 'no'))\n",
    "col_dict['nonprogr_motion_no'] = nonprogr_motion_no \n"
   ]
  },
  {
   "cell_type": "code",
   "execution_count": 23,
   "id": "f64a521c-385b-4daf-a81b-079dd513dc7f",
   "metadata": {},
   "outputs": [],
   "source": [
    "# voice\n",
    "both_voice_active = calculator(en, (en.voice != 'active'))\n",
    "col_dict['both_voice_active'] = both_voice_active\n",
    "\n",
    "both_voice_passive = calculator(en, (en.voice != 'passive'))\n",
    "col_dict['both_voice_passive'] = both_voice_passive\n",
    "\n",
    "progr_voice_active = calculator(en_progr, (en_progr.voice != 'active'))\n",
    "col_dict['progr_voice_active'] = progr_voice_active\n",
    "\n",
    "progr_voice_passive = calculator(en_progr, (en_progr.voice != 'passive'))\n",
    "col_dict['progr_voice_passive'] = progr_voice_passive\n",
    "\n",
    "nonprogr_voice_active = calculator(en_nonprogr, (en_nonprogr.voice != 'active'))\n",
    "col_dict['nonprogr_voice_active'] = nonprogr_voice_active\n",
    "\n",
    "nonprogr_voice_passive = calculator(en_nonprogr, (en_nonprogr.voice != 'passive'))\n",
    "col_dict['nonprogr_voice_passive'] = nonprogr_voice_passive\n",
    "\n"
   ]
  },
  {
   "cell_type": "code",
   "execution_count": 24,
   "id": "64558836-9107-4041-b567-ed70a349335b",
   "metadata": {},
   "outputs": [],
   "source": [
    "# animacy\n",
    "both_anim_animate = calculator(en, (en.anim_binary != 'animate'))\n",
    "col_dict['both_anim_animate'] = both_anim_animate\n",
    "\n",
    "both_anim_inanimate = calculator(en, (en.anim_binary != 'inanimate'))\n",
    "col_dict['both_anim_inanimate'] = both_anim_inanimate\n",
    "\n",
    "progr_anim_animate = calculator(en_progr, (en_progr.anim_binary != 'animate'))\n",
    "col_dict['progr_anim_animate'] = progr_anim_animate\n",
    "\n",
    "progr_anim_inanimate = calculator(en_progr, (en_progr.anim_binary != 'inanimate'))\n",
    "col_dict['progr_anim_inanimate'] = progr_anim_inanimate\n",
    "\n",
    "nonprogr_anim_animate = calculator(en_nonprogr, (en_nonprogr.anim_binary != 'animate'))\n",
    "col_dict['nonprogr_anim_animate'] = nonprogr_anim_animate\n",
    "\n",
    "nonprogr_anim_inanimate = calculator(en_nonprogr, (en_nonprogr.anim_binary != 'inanimate'))\n",
    "col_dict['nonprogr_anim_inanimate'] = nonprogr_anim_inanimate\n"
   ]
  },
  {
   "cell_type": "code",
   "execution_count": 25,
   "id": "580a9680-0591-4b5f-aa52-41b56c606d7d",
   "metadata": {},
   "outputs": [],
   "source": [
    "# predictiveness \n",
    "both_pred_pred = calculator(en, (en.predictiveness_binary != 'predict.x'))\n",
    "col_dict['both_pred_pred'] = both_pred_pred\n",
    "\n",
    "both_pred_notPred = calculator(en, (en.predictiveness_binary != 'not_predict'))\n",
    "col_dict['both_pred_notPred'] = both_pred_notPred\n",
    "\n",
    "\n",
    "\n",
    "progr_pred_pred = calculator(en_progr, (en_progr.predictiveness_binary != 'predict.x'))\n",
    "col_dict['progr_pred_pred'] = progr_pred_pred\n",
    "\n",
    "progr_pred_notPred = calculator(en_progr, (en_progr.predictiveness_binary != 'not_predict'))\n",
    "col_dict['progr_pred_notPred'] = progr_pred_notPred\n",
    "\n",
    "\n",
    "nonprogr_pred_pred = calculator(en_nonprogr, (en_nonprogr.predictiveness_binary != 'predict.x'))\n",
    "col_dict['nonprogr_pred_pred'] = nonprogr_pred_pred\n",
    "\n",
    "nonprogr_pred_notPred = calculator(en_nonprogr, (en_nonprogr.predictiveness_binary != 'not_predict'))\n",
    "col_dict['nonprogr_pred_notPred'] = nonprogr_pred_notPred\n"
   ]
  },
  {
   "cell_type": "code",
   "execution_count": 26,
   "id": "190e6e2f-14e2-465a-9ab2-dd347fcbc432",
   "metadata": {},
   "outputs": [],
   "source": [
    "# intentionality \n",
    "\n",
    "both_int_int = calculator(en, (en.intentionality != 'int'))\n",
    "col_dict['both_int_int'] = both_int_int\n",
    "both_int_nint = calculator(en, (en.intentionality != 'nint'))\n",
    "col_dict['both_int_nint'] = both_int_nint\n",
    "\n",
    "progr_int_int = calculator(en_progr, (en_progr.intentionality != 'int'))\n",
    "col_dict['progr_int_int'] = progr_int_int\n",
    "progr_int_nint = calculator(en_progr, (en_progr.intentionality != 'nint'))\n",
    "col_dict['progr_int_nint'] = progr_int_nint\n",
    "\n",
    "nonprogr_int_int = calculator(en_nonprogr, (en_nonprogr.intentionality != 'int'))\n",
    "col_dict['nonprogr_int_int'] = nonprogr_int_int\n",
    "nonprogr_int_nint = calculator(en_nonprogr, (en_nonprogr.intentionality != 'nint'))\n",
    "col_dict['nonprogr_int_nint'] = nonprogr_int_nint"
   ]
  },
  {
   "cell_type": "code",
   "execution_count": 27,
   "id": "990378cc-5462-4742-a4b8-15a6ce7433e9",
   "metadata": {},
   "outputs": [],
   "source": [
    "for dict_name, dictionary in col_dict.items():\n",
    "   # print(dict_name)\n",
    "    new_df_en[dict_name] = new_df_en['authorId_textId'].map(dictionary)"
   ]
  },
  {
   "cell_type": "code",
   "execution_count": 28,
   "id": "e4703640-c814-432e-8cf0-274a8ef856a3",
   "metadata": {},
   "outputs": [
    {
     "name": "stdout",
     "output_type": "stream",
     "text": [
      "<class 'pandas.core.frame.DataFrame'>\n",
      "Int64Index: 52 entries, 19 to 1489\n",
      "Data columns (total 44 columns):\n",
      " #   Column                       Non-Null Count  Dtype  \n",
      "---  ------                       --------------  -----  \n",
      " 0   author                       52 non-null     object \n",
      " 1   author_id                    52 non-null     int64  \n",
      " 2   text_id_per_author           52 non-null     int64  \n",
      " 3   authorId_textId              52 non-null     object \n",
      " 4   textDate                     52 non-null     int64  \n",
      " 5   timeframe                    52 non-null     object \n",
      " 6   kind                         52 non-null     object \n",
      " 7   USTC_subject_classification  52 non-null     object \n",
      " 8   period                       52 non-null     object \n",
      " 9   period_category              52 non-null     int64  \n",
      " 10  wordcount                    52 non-null     int64  \n",
      " 11  both                         52 non-null     int64  \n",
      " 12  progr                        52 non-null     float64\n",
      " 13  nonprogr                     52 non-null     float64\n",
      " 14  both_motion_yes              44 non-null     float64\n",
      " 15  both_motion_no               34 non-null     float64\n",
      " 16  progr_motion_yes             22 non-null     float64\n",
      " 17  progr_motion_no              27 non-null     float64\n",
      " 18  nonprogr_motion_yes          40 non-null     float64\n",
      " 19  nonprogr_motion_no           13 non-null     float64\n",
      " 20  both_voice_active            51 non-null     float64\n",
      " 21  both_voice_passive           8 non-null      float64\n",
      " 22  progr_voice_active           35 non-null     float64\n",
      " 23  progr_voice_passive          7 non-null      float64\n",
      " 24  nonprogr_voice_active        43 non-null     float64\n",
      " 25  nonprogr_voice_passive       1 non-null      float64\n",
      " 26  both_anim_animate            50 non-null     float64\n",
      " 27  both_anim_inanimate          7 non-null      float64\n",
      " 28  progr_anim_animate           34 non-null     float64\n",
      " 29  progr_anim_inanimate         5 non-null      float64\n",
      " 30  nonprogr_anim_animate        43 non-null     float64\n",
      " 31  nonprogr_anim_inanimate      2 non-null      float64\n",
      " 32  both_pred_pred               10 non-null     float64\n",
      " 33  both_pred_notPred            51 non-null     float64\n",
      " 34  progr_pred_pred              8 non-null      float64\n",
      " 35  progr_pred_notPred           35 non-null     float64\n",
      " 36  nonprogr_pred_pred           3 non-null      float64\n",
      " 37  nonprogr_pred_notPred        43 non-null     float64\n",
      " 38  both_int_int                 49 non-null     float64\n",
      " 39  both_int_nint                12 non-null     float64\n",
      " 40  progr_int_int                36 non-null     float64\n",
      " 41  progr_int_nint               10 non-null     float64\n",
      " 42  nonprogr_int_int             39 non-null     float64\n",
      " 43  nonprogr_int_nint            2 non-null      float64\n",
      "dtypes: float64(32), int64(6), object(6)\n",
      "memory usage: 18.3+ KB\n"
     ]
    }
   ],
   "source": [
    "new_df_en.info()"
   ]
  },
  {
   "cell_type": "code",
   "execution_count": 29,
   "id": "322db0fd-7a35-4a18-b80a-02a5cc6fb622",
   "metadata": {},
   "outputs": [],
   "source": [
    "def calculate_relfreq(x, y, fixedNr=1000000):\n",
    "    \"\"\"\n",
    "    Function to calculate relative frequency.\n",
    "    \n",
    "    Takes two columns as arguments, as well as a fixed number to multiply by, which defaults to 1,000,000.\n",
    "    \n",
    "    \n",
    "    Returns: relative frequency, calculated by dividing the raw number of occurrences by the total \n",
    "    wordcount and multiplied with the fixed number.\n",
    "    \n",
    "    \"\"\"\n",
    "    \n",
    "    return (x/y)*fixedNr"
   ]
  },
  {
   "cell_type": "code",
   "execution_count": 30,
   "id": "f40b4c9a-618d-45a0-a5e7-612efd1d72c3",
   "metadata": {},
   "outputs": [],
   "source": [
    "# for each column containing raw frequencies, insert a new column with normalized frequencies of that raw number \n",
    "\n",
    "for column in new_df_en.iloc[:,11:44].columns:\n",
    "    new_df_en['norm_{}'.format(column)] = calculate_relfreq(new_df_en[column], new_df_en['wordcount'], 1000000)"
   ]
  },
  {
   "cell_type": "code",
   "execution_count": 31,
   "id": "a958b284-1b65-46b0-8f6e-04e094a7504f",
   "metadata": {},
   "outputs": [],
   "source": [
    "new_df_en = new_df_en.fillna(0)"
   ]
  },
  {
   "cell_type": "code",
   "execution_count": 32,
   "id": "86f08735-3e07-4374-ab45-e37bdebc75e3",
   "metadata": {},
   "outputs": [],
   "source": [
    "# insert binary column with 0 if early and 1 if later\n",
    "new_df_en.insert(6, 'timeframe_binary', [0 if value == 'early' else 1 for value in new_df_en.timeframe])"
   ]
  },
  {
   "cell_type": "code",
   "execution_count": 33,
   "id": "7bca82df-7998-438d-85d9-16e66d027378",
   "metadata": {},
   "outputs": [],
   "source": [
    "# insert binary column with 0 if reference and 1 if translation\n",
    "new_df_en.insert(8, 'kind_binary', [0 if value == 'reference' else 1 for value in new_df_en.kind])"
   ]
  },
  {
   "cell_type": "code",
   "execution_count": 34,
   "id": "9ec7062d-340a-4976-9c57-211330053558",
   "metadata": {},
   "outputs": [],
   "source": [
    "#new_df_en.to_excel('/Users/paulineclaes/Documents/dta/thesis/finaldata/en_textStats.xlsx',\n",
    "#                  index=False,\n",
    "#                  na_rep=0)"
   ]
  },
  {
   "cell_type": "markdown",
   "id": "cf927ef7-5ed7-4619-a6fc-b50e0672c7cb",
   "metadata": {},
   "source": [
    "### Doing the same for French data"
   ]
  },
  {
   "cell_type": "code",
   "execution_count": 17,
   "id": "23bf50b1-1d67-4107-bbf1-872599e5c7ab",
   "metadata": {},
   "outputs": [],
   "source": [
    "import pandas as pd"
   ]
  },
  {
   "cell_type": "code",
   "execution_count": 18,
   "id": "ebda7099-1ac3-4460-a1e1-d94f282dfc63",
   "metadata": {},
   "outputs": [],
   "source": [
    "temp_fr = pd.read_excel('/Users/paulineclaes/Documents/dta/thesis/ClaesPauline_thesis_finaleversie/data/final_AllerINF.xlsx')"
   ]
  },
  {
   "cell_type": "code",
   "execution_count": 19,
   "id": "d718141e-3701-42f9-b67b-b527151cb36a",
   "metadata": {},
   "outputs": [
    {
     "data": {
      "text/html": [
       "<div>\n",
       "<style scoped>\n",
       "    .dataframe tbody tr th:only-of-type {\n",
       "        vertical-align: middle;\n",
       "    }\n",
       "\n",
       "    .dataframe tbody tr th {\n",
       "        vertical-align: top;\n",
       "    }\n",
       "\n",
       "    .dataframe thead th {\n",
       "        text-align: right;\n",
       "    }\n",
       "</style>\n",
       "<table border=\"1\" class=\"dataframe\">\n",
       "  <thead>\n",
       "    <tr style=\"text-align: right;\">\n",
       "      <th></th>\n",
       "      <th>timeframe</th>\n",
       "      <th>period_category</th>\n",
       "      <th>kind</th>\n",
       "      <th>data_identifier</th>\n",
       "      <th>author_id</th>\n",
       "      <th>text_id_per_author</th>\n",
       "      <th>authorId_textId</th>\n",
       "      <th>fr_source_filename</th>\n",
       "      <th>fr_source_title</th>\n",
       "      <th>fr_source_author</th>\n",
       "      <th>...</th>\n",
       "      <th>vpers_grammaticalPerson</th>\n",
       "      <th>pos</th>\n",
       "      <th>previous50</th>\n",
       "      <th>prev1</th>\n",
       "      <th>aller</th>\n",
       "      <th>aller_POS</th>\n",
       "      <th>INF</th>\n",
       "      <th>next1</th>\n",
       "      <th>next1_POS</th>\n",
       "      <th>next50</th>\n",
       "    </tr>\n",
       "  </thead>\n",
       "  <tbody>\n",
       "    <tr>\n",
       "      <th>0</th>\n",
       "      <td>early</td>\n",
       "      <td>2</td>\n",
       "      <td>french_original</td>\n",
       "      <td>EFS01</td>\n",
       "      <td>35</td>\n",
       "      <td>1</td>\n",
       "      <td>35_1</td>\n",
       "      <td>WFtemp_LABE_Debat_de_folie_et_amour</td>\n",
       "      <td>Débat de folie et d'amour</td>\n",
       "      <td>Labé, Louise</td>\n",
       "      <td>...</td>\n",
       "      <td>3</td>\n",
       "      <td>inf</td>\n",
       "      <td>à gouverner les Viles , sans que lon l' apelle...</td>\n",
       "      <td>d'</td>\n",
       "      <td>aller</td>\n",
       "      <td>VINF</td>\n",
       "      <td>planter</td>\n",
       "      <td>des</td>\n",
       "      <td>P+D</td>\n",
       "      <td>chous . Le fol ira tant et viendra , en donner...</td>\n",
       "    </tr>\n",
       "    <tr>\n",
       "      <th>1</th>\n",
       "      <td>early</td>\n",
       "      <td>2</td>\n",
       "      <td>french_original</td>\n",
       "      <td>EFS01</td>\n",
       "      <td>35</td>\n",
       "      <td>1</td>\n",
       "      <td>35_1</td>\n",
       "      <td>WFtemp_LABE_Debat_de_folie_et_amour</td>\n",
       "      <td>Débat de folie et d'amour</td>\n",
       "      <td>Labé, Louise</td>\n",
       "      <td>...</td>\n",
       "      <td>3</td>\n",
       "      <td>pres</td>\n",
       "      <td>ay dit . Quand Mercure ut fini la defense de F...</td>\n",
       "      <td>,</td>\n",
       "      <td>và</td>\n",
       "      <td>VP</td>\n",
       "      <td>prononcer</td>\n",
       "      <td>un</td>\n",
       "      <td>DET</td>\n",
       "      <td>arrest interlocutoire en cette maniere : Pour ...</td>\n",
       "    </tr>\n",
       "    <tr>\n",
       "      <th>2</th>\n",
       "      <td>early</td>\n",
       "      <td>3</td>\n",
       "      <td>french_original</td>\n",
       "      <td>EFS13</td>\n",
       "      <td>47</td>\n",
       "      <td>1</td>\n",
       "      <td>47_1</td>\n",
       "      <td>LESCARBOT_cleaned</td>\n",
       "      <td>Histoire de la Nouvelle France (Lescarbot, Marc)</td>\n",
       "      <td>Lescarbot, Marc</td>\n",
       "      <td>...</td>\n",
       "      <td>3</td>\n",
       "      <td>past</td>\n",
       "      <td>de Canada &amp; Hochelaga au temps de post Tacques...</td>\n",
       "      <td>est</td>\n",
       "      <td>allé</td>\n",
       "      <td>VPP</td>\n",
       "      <td>rechercher</td>\n",
       "      <td>leurs</td>\n",
       "      <td>DET</td>\n",
       "      <td>pelleteries , Canada que pour icelles ils ont ...</td>\n",
       "    </tr>\n",
       "    <tr>\n",
       "      <th>3</th>\n",
       "      <td>early</td>\n",
       "      <td>3</td>\n",
       "      <td>french_original</td>\n",
       "      <td>EFS13</td>\n",
       "      <td>47</td>\n",
       "      <td>1</td>\n",
       "      <td>47_1</td>\n",
       "      <td>LESCARBOT_cleaned</td>\n",
       "      <td>Histoire de la Nouvelle France (Lescarbot, Marc)</td>\n",
       "      <td>Lescarbot, Marc</td>\n",
       "      <td>...</td>\n",
       "      <td>3</td>\n",
       "      <td>pres</td>\n",
       "      <td>qu' vn autre &amp; n' en perdent point yn tour de ...</td>\n",
       "      <td>les</td>\n",
       "      <td>vont</td>\n",
       "      <td>VP</td>\n",
       "      <td>voir</td>\n",
       "      <td>de</td>\n",
       "      <td>ADP</td>\n",
       "      <td>plus grand chose : comme pardeça quand on pres...</td>\n",
       "    </tr>\n",
       "    <tr>\n",
       "      <th>4</th>\n",
       "      <td>early</td>\n",
       "      <td>3</td>\n",
       "      <td>french_original</td>\n",
       "      <td>EFS13</td>\n",
       "      <td>47</td>\n",
       "      <td>1</td>\n",
       "      <td>47_1</td>\n",
       "      <td>LESCARBOT_cleaned</td>\n",
       "      <td>Histoire de la Nouvelle France (Lescarbot, Marc)</td>\n",
       "      <td>Lescarbot, Marc</td>\n",
       "      <td>...</td>\n",
       "      <td>un</td>\n",
       "      <td>pres</td>\n",
       "      <td>à l' vn des bours dudit lac ne nous apparoisso...</td>\n",
       "      <td>&amp;</td>\n",
       "      <td>aller</td>\n",
       "      <td>VINF</td>\n",
       "      <td>chercher</td>\n",
       "      <td>passage</td>\n",
       "      <td>NOUN</td>\n",
       "      <td>tre ou cinq rivieres toutes sortantes dudit ff...</td>\n",
       "    </tr>\n",
       "  </tbody>\n",
       "</table>\n",
       "<p>5 rows × 41 columns</p>\n",
       "</div>"
      ],
      "text/plain": [
       "  timeframe  period_category             kind data_identifier  author_id  \\\n",
       "0     early                2  french_original           EFS01         35   \n",
       "1     early                2  french_original           EFS01         35   \n",
       "2     early                3  french_original           EFS13         47   \n",
       "3     early                3  french_original           EFS13         47   \n",
       "4     early                3  french_original           EFS13         47   \n",
       "\n",
       "   text_id_per_author authorId_textId                   fr_source_filename  \\\n",
       "0                   1            35_1  WFtemp_LABE_Debat_de_folie_et_amour   \n",
       "1                   1            35_1  WFtemp_LABE_Debat_de_folie_et_amour   \n",
       "2                   1            47_1                    LESCARBOT_cleaned   \n",
       "3                   1            47_1                    LESCARBOT_cleaned   \n",
       "4                   1            47_1                    LESCARBOT_cleaned   \n",
       "\n",
       "                                    fr_source_title fr_source_author  ...  \\\n",
       "0                         Débat de folie et d'amour     Labé, Louise  ...   \n",
       "1                         Débat de folie et d'amour     Labé, Louise  ...   \n",
       "2  Histoire de la Nouvelle France (Lescarbot, Marc)  Lescarbot, Marc  ...   \n",
       "3  Histoire de la Nouvelle France (Lescarbot, Marc)  Lescarbot, Marc  ...   \n",
       "4  Histoire de la Nouvelle France (Lescarbot, Marc)  Lescarbot, Marc  ...   \n",
       "\n",
       "   vpers_grammaticalPerson   pos  \\\n",
       "0                        3   inf   \n",
       "1                        3  pres   \n",
       "2                        3  past   \n",
       "3                        3  pres   \n",
       "4                       un  pres   \n",
       "\n",
       "                                          previous50 prev1  aller aller_POS  \\\n",
       "0  à gouverner les Viles , sans que lon l' apelle...    d'  aller      VINF   \n",
       "1  ay dit . Quand Mercure ut fini la defense de F...     ,     và        VP   \n",
       "2  de Canada & Hochelaga au temps de post Tacques...   est   allé       VPP   \n",
       "3  qu' vn autre & n' en perdent point yn tour de ...   les   vont        VP   \n",
       "4  à l' vn des bours dudit lac ne nous apparoisso...     &  aller      VINF   \n",
       "\n",
       "          INF    next1 next1_POS  \\\n",
       "0     planter      des       P+D   \n",
       "1   prononcer       un       DET   \n",
       "2  rechercher    leurs       DET   \n",
       "3        voir       de       ADP   \n",
       "4    chercher  passage      NOUN   \n",
       "\n",
       "                                              next50  \n",
       "0  chous . Le fol ira tant et viendra , en donner...  \n",
       "1  arrest interlocutoire en cette maniere : Pour ...  \n",
       "2  pelleteries , Canada que pour icelles ils ont ...  \n",
       "3  plus grand chose : comme pardeça quand on pres...  \n",
       "4  tre ou cinq rivieres toutes sortantes dudit ff...  \n",
       "\n",
       "[5 rows x 41 columns]"
      ]
     },
     "execution_count": 19,
     "metadata": {},
     "output_type": "execute_result"
    }
   ],
   "source": [
    "temp_fr.head()"
   ]
  },
  {
   "cell_type": "code",
   "execution_count": 20,
   "id": "b2db7572-a775-4728-808d-2703c81ba016",
   "metadata": {},
   "outputs": [
    {
     "name": "stdout",
     "output_type": "stream",
     "text": [
      "<class 'pandas.core.frame.DataFrame'>\n",
      "RangeIndex: 1363 entries, 0 to 1362\n",
      "Data columns (total 41 columns):\n",
      " #   Column                     Non-Null Count  Dtype \n",
      "---  ------                     --------------  ----- \n",
      " 0   timeframe                  1363 non-null   object\n",
      " 1   period_category            1363 non-null   int64 \n",
      " 2   kind                       1363 non-null   object\n",
      " 3   data_identifier            1363 non-null   object\n",
      " 4   author_id                  1363 non-null   int64 \n",
      " 5   text_id_per_author         1363 non-null   int64 \n",
      " 6   authorId_textId            1363 non-null   object\n",
      " 7   fr_source_filename         1363 non-null   object\n",
      " 8   fr_source_title            1363 non-null   object\n",
      " 9   fr_source_author           1363 non-null   object\n",
      " 10  fr_source_textDate         1363 non-null   int64 \n",
      " 11  eebo_genre                 1363 non-null   object\n",
      " 12  fr_source_all_tokens       1363 non-null   int64 \n",
      " 13  en_translation_filename    1363 non-null   object\n",
      " 14  en_translation_title       1363 non-null   object\n",
      " 15  en_translation_translator  1363 non-null   object\n",
      " 16  en_translation_textDate    1363 non-null   int64 \n",
      " 17  en_reference_filename      1363 non-null   object\n",
      " 18  en_reference_title         1363 non-null   object\n",
      " 19  en_reference_author        1363 non-null   object\n",
      " 20  en_reference_textDate      1363 non-null   object\n",
      " 21  en_reference_eebo_genre    1363 non-null   object\n",
      " 22  voice                      1363 non-null   object\n",
      " 23  anim                       1336 non-null   object\n",
      " 24  anim_simplified            1327 non-null   object\n",
      " 25  motion                     1336 non-null   object\n",
      " 26  intentionality             1336 non-null   object\n",
      " 27  predictiveness             1363 non-null   object\n",
      " 28  predictiveness_binary      1363 non-null   object\n",
      " 29  vpers                      1336 non-null   object\n",
      " 30  vpers_grammaticalNumber    1336 non-null   object\n",
      " 31  vpers_grammaticalPerson    1336 non-null   object\n",
      " 32  pos                        1336 non-null   object\n",
      " 33  previous50                 1363 non-null   object\n",
      " 34  prev1                      1363 non-null   object\n",
      " 35  aller                      1363 non-null   object\n",
      " 36  aller_POS                  1363 non-null   object\n",
      " 37  INF                        1363 non-null   object\n",
      " 38  next1                      1363 non-null   object\n",
      " 39  next1_POS                  1363 non-null   object\n",
      " 40  next50                     1363 non-null   object\n",
      "dtypes: int64(6), object(35)\n",
      "memory usage: 436.7+ KB\n"
     ]
    }
   ],
   "source": [
    "temp_fr.info()"
   ]
  },
  {
   "cell_type": "code",
   "execution_count": 21,
   "id": "b51c4657-9383-4355-9210-de8d6a7e6d0e",
   "metadata": {},
   "outputs": [
    {
     "data": {
      "text/plain": [
       "12"
      ]
     },
     "execution_count": 21,
     "metadata": {},
     "output_type": "execute_result"
    }
   ],
   "source": [
    "len(temp_fr[temp_fr['anim_simplified']=='dummy'])"
   ]
  },
  {
   "cell_type": "code",
   "execution_count": 22,
   "id": "cece1eca-b7c0-4847-9d57-5799c2974ae2",
   "metadata": {},
   "outputs": [
    {
     "data": {
      "text/plain": [
       "array(['active', 'noise', 'passive'], dtype=object)"
      ]
     },
     "execution_count": 22,
     "metadata": {},
     "output_type": "execute_result"
    }
   ],
   "source": [
    "temp_fr.voice.unique()"
   ]
  },
  {
   "cell_type": "code",
   "execution_count": 23,
   "id": "c837efee-b881-4b90-a60f-bc0f081a27ee",
   "metadata": {},
   "outputs": [],
   "source": [
    "# remove noise\n",
    "fr = temp_fr.drop(temp_fr[(temp_fr.voice == 'noise')].index)"
   ]
  },
  {
   "cell_type": "code",
   "execution_count": 24,
   "id": "5962e01b-5334-48fd-a469-c8422863bd60",
   "metadata": {},
   "outputs": [
    {
     "data": {
      "text/plain": [
       "array(['active', 'passive'], dtype=object)"
      ]
     },
     "execution_count": 24,
     "metadata": {},
     "output_type": "execute_result"
    }
   ],
   "source": [
    "fr.voice.unique()"
   ]
  },
  {
   "cell_type": "code",
   "execution_count": 25,
   "id": "0eab2303-4077-439f-8fb2-86c762a63cb6",
   "metadata": {},
   "outputs": [],
   "source": [
    "# constructing a dictionary with unique authorId_textIds and their number of concordances \n",
    "rows_dict = {key:len(value) for key, value in fr.groupby('authorId_textId').groups.items()}"
   ]
  },
  {
   "cell_type": "code",
   "execution_count": 26,
   "id": "85228b38-fff4-4742-9b38-0c78cde9195d",
   "metadata": {},
   "outputs": [],
   "source": [
    "# select some columns\n",
    "temp_new_df_fr = fr[['fr_source_author','author_id', 'text_id_per_author', 'authorId_textId', 'fr_source_textDate','timeframe', 'kind', 'eebo_genre', 'period_category', 'fr_source_all_tokens']]\n"
   ]
  },
  {
   "cell_type": "code",
   "execution_count": 27,
   "id": "078d9b54-8b1e-4740-aeb9-04553555b9bf",
   "metadata": {},
   "outputs": [],
   "source": [
    "# keeping only unique authorId_textIds\n",
    "\n",
    "new_df_fr = temp_new_df_fr.drop_duplicates(subset=['authorId_textId'])"
   ]
  },
  {
   "cell_type": "code",
   "execution_count": 28,
   "id": "0cff771a-1433-40f0-a253-74ea37bc35c6",
   "metadata": {},
   "outputs": [
    {
     "data": {
      "text/plain": [
       "True"
      ]
     },
     "execution_count": 28,
     "metadata": {},
     "output_type": "execute_result"
    }
   ],
   "source": [
    "len(new_df_fr) == len(new_df_fr.authorId_textId.unique())"
   ]
  },
  {
   "cell_type": "code",
   "execution_count": 29,
   "id": "94d7aff5-26f6-4e2a-8843-ac9c30d2fc78",
   "metadata": {},
   "outputs": [
    {
     "name": "stdout",
     "output_type": "stream",
     "text": [
      "<class 'pandas.core.frame.DataFrame'>\n",
      "Int64Index: 37 entries, 0 to 1289\n",
      "Data columns (total 10 columns):\n",
      " #   Column                Non-Null Count  Dtype \n",
      "---  ------                --------------  ----- \n",
      " 0   fr_source_author      37 non-null     object\n",
      " 1   author_id             37 non-null     int64 \n",
      " 2   text_id_per_author    37 non-null     int64 \n",
      " 3   authorId_textId       37 non-null     object\n",
      " 4   fr_source_textDate    37 non-null     int64 \n",
      " 5   timeframe             37 non-null     object\n",
      " 6   kind                  37 non-null     object\n",
      " 7   eebo_genre            37 non-null     object\n",
      " 8   period_category       37 non-null     int64 \n",
      " 9   fr_source_all_tokens  37 non-null     int64 \n",
      "dtypes: int64(5), object(5)\n",
      "memory usage: 3.2+ KB\n"
     ]
    }
   ],
   "source": [
    "new_df_fr.info()"
   ]
  },
  {
   "cell_type": "code",
   "execution_count": 30,
   "id": "7aa76ae3-e92e-4d3f-abeb-edef66b0dfbf",
   "metadata": {},
   "outputs": [],
   "source": [
    "def calculate_relfreq(x, y, fixedNr=1000000):\n",
    "    \"\"\"\n",
    "    Function to calculate relative frequency.\n",
    "    \n",
    "    Takes two columns as arguments, as well as a fixed number to multiply by, which defaults to 1,000,000.\n",
    "    \n",
    "    \n",
    "    Returns: relative frequency, calculated by dividing the raw number of occurrences by the total \n",
    "    wordcount and multiplied with the fixed number.\n",
    "    \n",
    "    \"\"\"\n",
    "    \n",
    "    return (x/y)*fixedNr"
   ]
  },
  {
   "cell_type": "code",
   "execution_count": 31,
   "id": "a04f746a-7c6e-4693-ae19-b97c24e8b303",
   "metadata": {},
   "outputs": [],
   "source": [
    "# insert column with raw number of go-constructions in French texts\n",
    "new_df_fr.insert(10, 'raw_n', new_df_fr['authorId_textId'].map(rows_dict))"
   ]
  },
  {
   "cell_type": "code",
   "execution_count": 32,
   "id": "2c295e17-2c27-4643-85ae-8df6b7517f99",
   "metadata": {},
   "outputs": [],
   "source": [
    "# insert column with normalized frequency of go-constructions in French texts\n",
    "new_df_fr.insert(11, 'relfreq', calculate_relfreq(new_df_fr.raw_n, new_df_fr.fr_source_all_tokens, 1000000))"
   ]
  },
  {
   "cell_type": "code",
   "execution_count": 33,
   "id": "fa934da1-f9cd-4a0a-9d9e-844b7eed836f",
   "metadata": {},
   "outputs": [
    {
     "name": "stdout",
     "output_type": "stream",
     "text": [
      "<class 'pandas.core.frame.DataFrame'>\n",
      "Int64Index: 37 entries, 0 to 1289\n",
      "Data columns (total 12 columns):\n",
      " #   Column                Non-Null Count  Dtype  \n",
      "---  ------                --------------  -----  \n",
      " 0   fr_source_author      37 non-null     object \n",
      " 1   author_id             37 non-null     int64  \n",
      " 2   text_id_per_author    37 non-null     int64  \n",
      " 3   authorId_textId       37 non-null     object \n",
      " 4   fr_source_textDate    37 non-null     int64  \n",
      " 5   timeframe             37 non-null     object \n",
      " 6   kind                  37 non-null     object \n",
      " 7   eebo_genre            37 non-null     object \n",
      " 8   period_category       37 non-null     int64  \n",
      " 9   fr_source_all_tokens  37 non-null     int64  \n",
      " 10  raw_n                 37 non-null     int64  \n",
      " 11  relfreq               37 non-null     float64\n",
      "dtypes: float64(1), int64(6), object(5)\n",
      "memory usage: 3.8+ KB\n"
     ]
    }
   ],
   "source": [
    "new_df_fr.info()"
   ]
  },
  {
   "cell_type": "code",
   "execution_count": 34,
   "id": "21067c57-005e-4008-af39-078668f8f3e2",
   "metadata": {},
   "outputs": [
    {
     "data": {
      "text/plain": [
       "array(['early', 'later'], dtype=object)"
      ]
     },
     "execution_count": 34,
     "metadata": {},
     "output_type": "execute_result"
    }
   ],
   "source": [
    "new_df_fr.timeframe.unique()"
   ]
  },
  {
   "cell_type": "code",
   "execution_count": 35,
   "id": "fbf64a2d-d37f-4c39-a78b-ee69aaa48425",
   "metadata": {},
   "outputs": [],
   "source": [
    "# insert binary column with 0 if early and 1 if later\n",
    "new_df_fr.insert(6, 'timeframe_binary', [0 if value=='early' else 1 for value in new_df_fr.timeframe])"
   ]
  },
  {
   "cell_type": "code",
   "execution_count": null,
   "id": "5b5d6e07-32e2-45f4-a227-ce723ac24bc3",
   "metadata": {},
   "outputs": [],
   "source": []
  },
  {
   "cell_type": "code",
   "execution_count": 51,
   "id": "916da43d-3869-47b6-b394-b96e15e8e0f4",
   "metadata": {},
   "outputs": [],
   "source": [
    "#new_df_fr.to_excel('/Users/paulineclaes/Documents/dta/thesis/finaldata/fr_textStats_new.xlsx',\n",
    "#                  index=False,\n",
    "#                  na_rep=0)"
   ]
  },
  {
   "cell_type": "code",
   "execution_count": 36,
   "id": "a18c697b-f70b-415f-b7d7-6562a62c0481",
   "metadata": {},
   "outputs": [],
   "source": [
    "def calculator(df, condition, grouping_object='authorId_textId'):\n",
    "    '''Function to calculate raw number of observations per unique text.'''\n",
    "    # drop all rows based on a negative condition\n",
    "        # so if we want to have raw count in go-constructions where motion is used, we specify the condition to drop all rows where motion is NOT 'yes'.\n",
    "    new_df = df.drop(df[condition].index) \n",
    "    rows_dict = {key:len(value) for key, value in new_df.groupby(grouping_object).groups.items()}\n",
    "    return rows_dict"
   ]
  },
  {
   "cell_type": "code",
   "execution_count": 37,
   "id": "488194d3-42ef-4dc8-80c8-283435d92300",
   "metadata": {},
   "outputs": [],
   "source": [
    "# instantiate empty dictionary to which all counts will be added \n",
    "col_dict = {}"
   ]
  },
  {
   "cell_type": "code",
   "execution_count": 38,
   "id": "05099658-dd59-467f-b33d-0b7f6433245b",
   "metadata": {},
   "outputs": [],
   "source": [
    "motion_yes = calculator(fr, (fr.motion != 'yes'))\n",
    "col_dict['motion_yes'] = motion_yes\n",
    "motion_no = calculator(fr, (fr.motion != 'no'))\n",
    "col_dict['motion_no'] = motion_no\n",
    "\n",
    "voice_active = calculator(fr, (fr.voice != 'active'))\n",
    "col_dict['voice_active'] = voice_active\n",
    "voice_passive = calculator(fr, (fr.voice != 'passive'))\n",
    "col_dict['voice_passive'] = voice_passive\n",
    "\n",
    "anim_animate = calculator(fr, (fr.anim_simplified != 'animate'))\n",
    "col_dict['anim_animate'] = anim_animate\n",
    "anim_dummy = calculator(fr, (fr.anim_simplified != 'dummy'))\n",
    "col_dict['anim_dummy'] = anim_dummy\n",
    "anim_inanimate = calculator(fr, (fr.anim_simplified != 'inanimate'))\n",
    "col_dict['anim_inanimate'] = anim_inanimate\n",
    "\n",
    "pred_pred = calculator(fr, (fr.predictiveness_binary != 'predict.x'))\n",
    "col_dict['pred_pred'] = pred_pred\n",
    "pred_notPred = calculator(fr, (fr.predictiveness_binary != 'not_predict'))\n",
    "col_dict['pred_notPred'] = pred_notPred\n",
    "\n",
    "int_int = calculator(fr, (fr.intentionality != 'int'))\n",
    "col_dict['int_int'] = int_int\n",
    "int_nint = calculator(fr, (fr.intentionality != 'nint'))\n",
    "col_dict['int_nint'] = int_nint"
   ]
  },
  {
   "cell_type": "code",
   "execution_count": 44,
   "id": "8b84df66-bb88-4773-857a-ded08769bf86",
   "metadata": {},
   "outputs": [
    {
     "name": "stdout",
     "output_type": "stream",
     "text": [
      "('motion_no', {'35_1': 1, '36_1': 70, '37_1': 3, '38_1': 4, '39_1': 15, '39_2': 15, '40_1': 59, '42_1': 21, '43_1': 11, '44_1': 27, '45_1': 34, '46_1': 4, '47_1': 17, '48_1': 7, '49_1': 1, '50_1': 3, '51_1': 3, '53_1': 15, '54_1': 4, '71_1': 9, '71_3': 2, '72_1': 26, '73_1': 14, '74_1': 3, '75_1': 18, '76_1': 11, '76_2': 25, '77_1': 2, '78_1': 3, '79_1': 17, '80_1': 9, '81_1': 25, '82_1': 3, '82_2': 23, '84_1': 5, '85_1': 3})\n"
     ]
    }
   ],
   "source": [
    "# check to see if it worked\n",
    "print(list(col_dict.items())[1])"
   ]
  },
  {
   "cell_type": "markdown",
   "id": "cd5e51f6-64d3-44b6-b891-3a8b6d2b8f3d",
   "metadata": {},
   "source": [
    "> Result: dictionary with values for each authorId_textId"
   ]
  },
  {
   "cell_type": "code",
   "execution_count": 45,
   "id": "f8d62dbc-7e32-4788-85c3-a5d5f66afd6c",
   "metadata": {},
   "outputs": [
    {
     "name": "stderr",
     "output_type": "stream",
     "text": [
      "/var/folders/ln/8vy8gwjn26l3c7d2xq_3n9xr0000gn/T/ipykernel_3167/1148156044.py:3: SettingWithCopyWarning: \n",
      "A value is trying to be set on a copy of a slice from a DataFrame.\n",
      "Try using .loc[row_indexer,col_indexer] = value instead\n",
      "\n",
      "See the caveats in the documentation: https://pandas.pydata.org/pandas-docs/stable/user_guide/indexing.html#returning-a-view-versus-a-copy\n",
      "  new_df_fr[dict_name] = new_df_fr['authorId_textId'].map(dictionary)\n"
     ]
    }
   ],
   "source": [
    "for dict_name, dictionary in col_dict.items():\n",
    "   # print(dict_name)\n",
    "    new_df_fr[dict_name] = new_df_fr['authorId_textId'].map(dictionary)"
   ]
  },
  {
   "cell_type": "code",
   "execution_count": 46,
   "id": "257a34a9-206a-46ee-946d-fcd1e5f09248",
   "metadata": {},
   "outputs": [
    {
     "name": "stdout",
     "output_type": "stream",
     "text": [
      "<class 'pandas.core.frame.DataFrame'>\n",
      "Int64Index: 37 entries, 0 to 1289\n",
      "Data columns (total 24 columns):\n",
      " #   Column                Non-Null Count  Dtype  \n",
      "---  ------                --------------  -----  \n",
      " 0   fr_source_author      37 non-null     object \n",
      " 1   author_id             37 non-null     int64  \n",
      " 2   text_id_per_author    37 non-null     int64  \n",
      " 3   authorId_textId       37 non-null     object \n",
      " 4   fr_source_textDate    37 non-null     int64  \n",
      " 5   timeframe             37 non-null     object \n",
      " 6   timeframe_binary      37 non-null     int64  \n",
      " 7   kind                  37 non-null     object \n",
      " 8   eebo_genre            37 non-null     object \n",
      " 9   period_category       37 non-null     int64  \n",
      " 10  fr_source_all_tokens  37 non-null     int64  \n",
      " 11  raw_n                 37 non-null     int64  \n",
      " 12  relfreq               37 non-null     float64\n",
      " 13  motion_yes            34 non-null     float64\n",
      " 14  motion_no             36 non-null     float64\n",
      " 15  voice_active          37 non-null     int64  \n",
      " 16  voice_passive         2 non-null      float64\n",
      " 17  anim_animate          37 non-null     int64  \n",
      " 18  anim_dummy            8 non-null      float64\n",
      " 19  anim_inanimate        23 non-null     float64\n",
      " 20  pred_pred             30 non-null     float64\n",
      " 21  pred_notPred          37 non-null     int64  \n",
      " 22  int_int               37 non-null     int64  \n",
      " 23  int_nint              30 non-null     float64\n",
      "dtypes: float64(8), int64(11), object(5)\n",
      "memory usage: 7.2+ KB\n"
     ]
    }
   ],
   "source": [
    "new_df_fr.info()"
   ]
  },
  {
   "cell_type": "code",
   "execution_count": 47,
   "id": "fdd8d6b8-7274-4b11-ade1-0d4157b6ea3a",
   "metadata": {},
   "outputs": [
    {
     "name": "stderr",
     "output_type": "stream",
     "text": [
      "/opt/anaconda3/lib/python3.9/site-packages/pandas/core/frame.py:5039: SettingWithCopyWarning: \n",
      "A value is trying to be set on a copy of a slice from a DataFrame\n",
      "\n",
      "See the caveats in the documentation: https://pandas.pydata.org/pandas-docs/stable/user_guide/indexing.html#returning-a-view-versus-a-copy\n",
      "  return super().rename(\n"
     ]
    }
   ],
   "source": [
    "new_df_fr.rename(columns={'fr_source_all_tokens':'wordcount'}, inplace=True)"
   ]
  },
  {
   "cell_type": "code",
   "execution_count": 48,
   "id": "0e96d13d-1bc4-43cc-8c9b-77a8e211897f",
   "metadata": {},
   "outputs": [
    {
     "name": "stdout",
     "output_type": "stream",
     "text": [
      "<class 'pandas.core.frame.DataFrame'>\n",
      "Int64Index: 37 entries, 0 to 1289\n",
      "Data columns (total 24 columns):\n",
      " #   Column              Non-Null Count  Dtype  \n",
      "---  ------              --------------  -----  \n",
      " 0   fr_source_author    37 non-null     object \n",
      " 1   author_id           37 non-null     int64  \n",
      " 2   text_id_per_author  37 non-null     int64  \n",
      " 3   authorId_textId     37 non-null     object \n",
      " 4   fr_source_textDate  37 non-null     int64  \n",
      " 5   timeframe           37 non-null     object \n",
      " 6   timeframe_binary    37 non-null     int64  \n",
      " 7   kind                37 non-null     object \n",
      " 8   eebo_genre          37 non-null     object \n",
      " 9   period_category     37 non-null     int64  \n",
      " 10  wordcount           37 non-null     int64  \n",
      " 11  raw_n               37 non-null     int64  \n",
      " 12  relfreq             37 non-null     float64\n",
      " 13  motion_yes          34 non-null     float64\n",
      " 14  motion_no           36 non-null     float64\n",
      " 15  voice_active        37 non-null     int64  \n",
      " 16  voice_passive       2 non-null      float64\n",
      " 17  anim_animate        37 non-null     int64  \n",
      " 18  anim_dummy          8 non-null      float64\n",
      " 19  anim_inanimate      23 non-null     float64\n",
      " 20  pred_pred           30 non-null     float64\n",
      " 21  pred_notPred        37 non-null     int64  \n",
      " 22  int_int             37 non-null     int64  \n",
      " 23  int_nint            30 non-null     float64\n",
      "dtypes: float64(8), int64(11), object(5)\n",
      "memory usage: 7.2+ KB\n"
     ]
    }
   ],
   "source": [
    "new_df_fr.info()"
   ]
  },
  {
   "cell_type": "code",
   "execution_count": 49,
   "id": "ef8d5fec-715a-4bee-9594-333e845336c0",
   "metadata": {},
   "outputs": [],
   "source": [
    "def calculate_relfreq(x, y, fixedNr=1000000):\n",
    "    \"\"\"\n",
    "    Function to calculate relative frequency.\n",
    "    \n",
    "    Takes two columns as arguments, as well as a fixed number to multiply by, which defaults to 1,000,000.\n",
    "    \n",
    "    \n",
    "    Returns: relative frequency, calculated by dividing the raw number of occurrences by the total \n",
    "    wordcount and multiplied with the fixed number.\n",
    "    \n",
    "    \"\"\"\n",
    "    \n",
    "    return (x/y)*fixedNr"
   ]
  },
  {
   "cell_type": "code",
   "execution_count": 50,
   "id": "e3273475-0c38-43ee-98fb-c8ec0bb343fc",
   "metadata": {},
   "outputs": [
    {
     "name": "stderr",
     "output_type": "stream",
     "text": [
      "/var/folders/ln/8vy8gwjn26l3c7d2xq_3n9xr0000gn/T/ipykernel_3167/499572015.py:2: SettingWithCopyWarning: \n",
      "A value is trying to be set on a copy of a slice from a DataFrame.\n",
      "Try using .loc[row_indexer,col_indexer] = value instead\n",
      "\n",
      "See the caveats in the documentation: https://pandas.pydata.org/pandas-docs/stable/user_guide/indexing.html#returning-a-view-versus-a-copy\n",
      "  new_df_fr['norm_{}'.format(column)] = calculate_relfreq(new_df_fr[column], new_df_fr['wordcount'], 1000000)\n"
     ]
    }
   ],
   "source": [
    "for column in new_df_fr.iloc[:,13:24].columns:\n",
    "    new_df_fr['norm_{}'.format(column)] = calculate_relfreq(new_df_fr[column], new_df_fr['wordcount'], 1000000)\n",
    "    \n",
    "    "
   ]
  },
  {
   "cell_type": "code",
   "execution_count": 51,
   "id": "10263353-f806-4283-83e0-812636084876",
   "metadata": {},
   "outputs": [
    {
     "data": {
      "text/html": [
       "<div>\n",
       "<style scoped>\n",
       "    .dataframe tbody tr th:only-of-type {\n",
       "        vertical-align: middle;\n",
       "    }\n",
       "\n",
       "    .dataframe tbody tr th {\n",
       "        vertical-align: top;\n",
       "    }\n",
       "\n",
       "    .dataframe thead th {\n",
       "        text-align: right;\n",
       "    }\n",
       "</style>\n",
       "<table border=\"1\" class=\"dataframe\">\n",
       "  <thead>\n",
       "    <tr style=\"text-align: right;\">\n",
       "      <th></th>\n",
       "      <th>fr_source_author</th>\n",
       "      <th>author_id</th>\n",
       "      <th>text_id_per_author</th>\n",
       "      <th>authorId_textId</th>\n",
       "      <th>fr_source_textDate</th>\n",
       "      <th>timeframe</th>\n",
       "      <th>timeframe_binary</th>\n",
       "      <th>kind</th>\n",
       "      <th>eebo_genre</th>\n",
       "      <th>period_category</th>\n",
       "      <th>...</th>\n",
       "      <th>norm_motion_no</th>\n",
       "      <th>norm_voice_active</th>\n",
       "      <th>norm_voice_passive</th>\n",
       "      <th>norm_anim_animate</th>\n",
       "      <th>norm_anim_dummy</th>\n",
       "      <th>norm_anim_inanimate</th>\n",
       "      <th>norm_pred_pred</th>\n",
       "      <th>norm_pred_notPred</th>\n",
       "      <th>norm_int_int</th>\n",
       "      <th>norm_int_nint</th>\n",
       "    </tr>\n",
       "  </thead>\n",
       "  <tbody>\n",
       "    <tr>\n",
       "      <th>0</th>\n",
       "      <td>Labé, Louise</td>\n",
       "      <td>35</td>\n",
       "      <td>1</td>\n",
       "      <td>35_1</td>\n",
       "      <td>1555</td>\n",
       "      <td>early</td>\n",
       "      <td>0</td>\n",
       "      <td>french_original</td>\n",
       "      <td>literature</td>\n",
       "      <td>2</td>\n",
       "      <td>...</td>\n",
       "      <td>35.298270</td>\n",
       "      <td>70.596541</td>\n",
       "      <td>NaN</td>\n",
       "      <td>35.298270</td>\n",
       "      <td>35.298270</td>\n",
       "      <td>NaN</td>\n",
       "      <td>NaN</td>\n",
       "      <td>70.596541</td>\n",
       "      <td>35.298270</td>\n",
       "      <td>NaN</td>\n",
       "    </tr>\n",
       "    <tr>\n",
       "      <th>2</th>\n",
       "      <td>Lescarbot, Marc</td>\n",
       "      <td>47</td>\n",
       "      <td>1</td>\n",
       "      <td>47_1</td>\n",
       "      <td>1609</td>\n",
       "      <td>early</td>\n",
       "      <td>0</td>\n",
       "      <td>french_original</td>\n",
       "      <td>history</td>\n",
       "      <td>3</td>\n",
       "      <td>...</td>\n",
       "      <td>61.593757</td>\n",
       "      <td>326.084594</td>\n",
       "      <td>NaN</td>\n",
       "      <td>318.838269</td>\n",
       "      <td>NaN</td>\n",
       "      <td>7.246324</td>\n",
       "      <td>3.623162</td>\n",
       "      <td>322.461431</td>\n",
       "      <td>307.968783</td>\n",
       "      <td>18.115811</td>\n",
       "    </tr>\n",
       "    <tr>\n",
       "      <th>92</th>\n",
       "      <td>Goulart</td>\n",
       "      <td>43</td>\n",
       "      <td>1</td>\n",
       "      <td>43_1</td>\n",
       "      <td>1604</td>\n",
       "      <td>early</td>\n",
       "      <td>0</td>\n",
       "      <td>french_original</td>\n",
       "      <td>history</td>\n",
       "      <td>3</td>\n",
       "      <td>...</td>\n",
       "      <td>50.410155</td>\n",
       "      <td>233.719811</td>\n",
       "      <td>NaN</td>\n",
       "      <td>229.137070</td>\n",
       "      <td>NaN</td>\n",
       "      <td>4.582741</td>\n",
       "      <td>4.582741</td>\n",
       "      <td>229.137070</td>\n",
       "      <td>192.475139</td>\n",
       "      <td>41.244673</td>\n",
       "    </tr>\n",
       "    <tr>\n",
       "      <th>143</th>\n",
       "      <td>Mornay, Philippe de</td>\n",
       "      <td>48</td>\n",
       "      <td>1</td>\n",
       "      <td>48_1</td>\n",
       "      <td>1598</td>\n",
       "      <td>early</td>\n",
       "      <td>0</td>\n",
       "      <td>french_original</td>\n",
       "      <td>religious</td>\n",
       "      <td>3</td>\n",
       "      <td>...</td>\n",
       "      <td>18.857403</td>\n",
       "      <td>32.326977</td>\n",
       "      <td>NaN</td>\n",
       "      <td>29.633062</td>\n",
       "      <td>NaN</td>\n",
       "      <td>2.693915</td>\n",
       "      <td>8.081744</td>\n",
       "      <td>24.245232</td>\n",
       "      <td>16.163488</td>\n",
       "      <td>5.387829</td>\n",
       "    </tr>\n",
       "    <tr>\n",
       "      <th>149</th>\n",
       "      <td>Lanoue</td>\n",
       "      <td>44</td>\n",
       "      <td>1</td>\n",
       "      <td>44_1</td>\n",
       "      <td>1587</td>\n",
       "      <td>early</td>\n",
       "      <td>0</td>\n",
       "      <td>french_original</td>\n",
       "      <td>history</td>\n",
       "      <td>3</td>\n",
       "      <td>...</td>\n",
       "      <td>107.844273</td>\n",
       "      <td>263.619334</td>\n",
       "      <td>NaN</td>\n",
       "      <td>251.636637</td>\n",
       "      <td>3.994232</td>\n",
       "      <td>NaN</td>\n",
       "      <td>3.994232</td>\n",
       "      <td>259.625101</td>\n",
       "      <td>235.659707</td>\n",
       "      <td>7.988465</td>\n",
       "    </tr>\n",
       "  </tbody>\n",
       "</table>\n",
       "<p>5 rows × 35 columns</p>\n",
       "</div>"
      ],
      "text/plain": [
       "        fr_source_author  author_id  text_id_per_author authorId_textId  \\\n",
       "0           Labé, Louise         35                   1            35_1   \n",
       "2        Lescarbot, Marc         47                   1            47_1   \n",
       "92               Goulart         43                   1            43_1   \n",
       "143  Mornay, Philippe de         48                   1            48_1   \n",
       "149               Lanoue         44                   1            44_1   \n",
       "\n",
       "     fr_source_textDate timeframe  timeframe_binary             kind  \\\n",
       "0                  1555     early                 0  french_original   \n",
       "2                  1609     early                 0  french_original   \n",
       "92                 1604     early                 0  french_original   \n",
       "143                1598     early                 0  french_original   \n",
       "149                1587     early                 0  french_original   \n",
       "\n",
       "     eebo_genre  period_category  ...  norm_motion_no  norm_voice_active  \\\n",
       "0    literature                2  ...       35.298270          70.596541   \n",
       "2       history                3  ...       61.593757         326.084594   \n",
       "92      history                3  ...       50.410155         233.719811   \n",
       "143   religious                3  ...       18.857403          32.326977   \n",
       "149     history                3  ...      107.844273         263.619334   \n",
       "\n",
       "     norm_voice_passive  norm_anim_animate  norm_anim_dummy  \\\n",
       "0                   NaN          35.298270        35.298270   \n",
       "2                   NaN         318.838269              NaN   \n",
       "92                  NaN         229.137070              NaN   \n",
       "143                 NaN          29.633062              NaN   \n",
       "149                 NaN         251.636637         3.994232   \n",
       "\n",
       "     norm_anim_inanimate  norm_pred_pred  norm_pred_notPred  norm_int_int  \\\n",
       "0                    NaN             NaN          70.596541     35.298270   \n",
       "2               7.246324        3.623162         322.461431    307.968783   \n",
       "92              4.582741        4.582741         229.137070    192.475139   \n",
       "143             2.693915        8.081744          24.245232     16.163488   \n",
       "149                  NaN        3.994232         259.625101    235.659707   \n",
       "\n",
       "     norm_int_nint  \n",
       "0              NaN  \n",
       "2        18.115811  \n",
       "92       41.244673  \n",
       "143       5.387829  \n",
       "149       7.988465  \n",
       "\n",
       "[5 rows x 35 columns]"
      ]
     },
     "execution_count": 51,
     "metadata": {},
     "output_type": "execute_result"
    }
   ],
   "source": [
    "new_df_fr.head()"
   ]
  },
  {
   "cell_type": "code",
   "execution_count": 52,
   "id": "ca893566-c621-4480-86cc-ffe622cca961",
   "metadata": {},
   "outputs": [],
   "source": [
    "new_df_fr = new_df_fr.fillna(0)"
   ]
  },
  {
   "cell_type": "code",
   "execution_count": 64,
   "id": "15d44c77-c96c-429c-8144-2dbde2322aa5",
   "metadata": {},
   "outputs": [],
   "source": [
    "#new_df_fr.to_excel('/Users/paulineclaes/Documents/dta/thesis/finaldata/fr_textStats.xlsx',\n",
    "#                  index=False,\n",
    "#                  na_rep=0)"
   ]
  },
  {
   "cell_type": "code",
   "execution_count": null,
   "id": "4bd3b9f1-7b6c-41e7-aad7-edd91fe73264",
   "metadata": {},
   "outputs": [],
   "source": []
  }
 ],
 "metadata": {
  "kernelspec": {
   "display_name": "Python 3 (ipykernel)",
   "language": "python",
   "name": "python3"
  },
  "language_info": {
   "codemirror_mode": {
    "name": "ipython",
    "version": 3
   },
   "file_extension": ".py",
   "mimetype": "text/x-python",
   "name": "python",
   "nbconvert_exporter": "python",
   "pygments_lexer": "ipython3",
   "version": "3.9.7"
  }
 },
 "nbformat": 4,
 "nbformat_minor": 5
}
